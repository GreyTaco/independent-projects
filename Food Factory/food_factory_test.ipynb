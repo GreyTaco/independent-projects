{
 "cells": [
  {
   "cell_type": "markdown",
   "id": "97feef7d",
   "metadata": {},
   "source": [
    "# Изучение показателей производства выпечки"
   ]
  },
  {
   "cell_type": "markdown",
   "id": "a14a9523",
   "metadata": {},
   "source": [
    "## О проекте"
   ]
  },
  {
   "cell_type": "markdown",
   "id": "6d64569d",
   "metadata": {},
   "source": [
    "Работа связана с предприятием, выпускающим выпечку. \n",
    "\n",
    "Цель проекта -- изучение показателей подразделений и товаров, в результате которого будут сформированы выводы и рекомендации.\n",
    "\n",
    "**Термины:**\n",
    "\n",
    "Выпуск -- количество товаров, пригодных к продаже\n",
    "\n",
    "Брак -- количество товаров, которые можно только утилизировать"
   ]
  },
  {
   "cell_type": "markdown",
   "id": "5a276767",
   "metadata": {},
   "source": [
    "## Исходные данные\n",
    "\n",
    "Два файла формата `xlsx` с данными:\n",
    "\n",
    "- `Тест брак`\n",
    "- `Тест выпуск`"
   ]
  },
  {
   "cell_type": "markdown",
   "id": "0382d674",
   "metadata": {},
   "source": [
    "## Чтение и первичный анализ"
   ]
  },
  {
   "cell_type": "code",
   "execution_count": 1,
   "id": "6b70f3e0",
   "metadata": {},
   "outputs": [],
   "source": [
    "# pandas\n",
    "import pandas as pd\n",
    "pd.options.mode.chained_assignment = None  # default='warn'\n",
    "pd.options.display.float_format = '{:,.2f}'.format\n",
    "\n",
    "# visualization\n",
    "import matplotlib.pyplot as plt\n",
    "import seaborn as sns"
   ]
  },
  {
   "cell_type": "code",
   "execution_count": 2,
   "id": "4e52ca03",
   "metadata": {},
   "outputs": [],
   "source": [
    "table_1 = pd.read_excel('/Users/ilatti/Documents/cv/portfolio/food_factory/Тест выпуск.xlsx')\n",
    "table_2 = pd.read_excel('/Users/ilatti/Documents/cv/portfolio/food_factory/Тест брак.xlsx')"
   ]
  },
  {
   "cell_type": "code",
   "execution_count": 3,
   "id": "5956e0be",
   "metadata": {},
   "outputs": [],
   "source": [
    "def basic_info(df):\n",
    "    print(df.info())\n",
    "    display(df.head())"
   ]
  },
  {
   "cell_type": "code",
   "execution_count": 4,
   "id": "a254b3b4",
   "metadata": {},
   "outputs": [
    {
     "name": "stdout",
     "output_type": "stream",
     "text": [
      "<class 'pandas.core.frame.DataFrame'>\n",
      "RangeIndex: 4043 entries, 0 to 4042\n",
      "Data columns (total 4 columns):\n",
      " #   Column         Non-Null Count  Dtype \n",
      "---  ------         --------------  ----- \n",
      " 0   Дата           4043 non-null   object\n",
      " 1   Товар          4043 non-null   object\n",
      " 2   Выпуск         4043 non-null   int64 \n",
      " 3   Подразделение  4043 non-null   object\n",
      "dtypes: int64(1), object(3)\n",
      "memory usage: 126.5+ KB\n",
      "None\n"
     ]
    },
    {
     "data": {
      "text/html": [
       "<div>\n",
       "<style scoped>\n",
       "    .dataframe tbody tr th:only-of-type {\n",
       "        vertical-align: middle;\n",
       "    }\n",
       "\n",
       "    .dataframe tbody tr th {\n",
       "        vertical-align: top;\n",
       "    }\n",
       "\n",
       "    .dataframe thead th {\n",
       "        text-align: right;\n",
       "    }\n",
       "</style>\n",
       "<table border=\"1\" class=\"dataframe\">\n",
       "  <thead>\n",
       "    <tr style=\"text-align: right;\">\n",
       "      <th></th>\n",
       "      <th>Дата</th>\n",
       "      <th>Товар</th>\n",
       "      <th>Выпуск</th>\n",
       "      <th>Подразделение</th>\n",
       "    </tr>\n",
       "  </thead>\n",
       "  <tbody>\n",
       "    <tr>\n",
       "      <th>0</th>\n",
       "      <td>03.01.2022 0:00:02</td>\n",
       "      <td>Товар 1</td>\n",
       "      <td>33900</td>\n",
       "      <td>Подразделение 1</td>\n",
       "    </tr>\n",
       "    <tr>\n",
       "      <th>1</th>\n",
       "      <td>03.01.2022 0:00:02</td>\n",
       "      <td>Товар 2</td>\n",
       "      <td>2640</td>\n",
       "      <td>Подразделение 1</td>\n",
       "    </tr>\n",
       "    <tr>\n",
       "      <th>2</th>\n",
       "      <td>03.01.2022 0:00:02</td>\n",
       "      <td>Товар 20</td>\n",
       "      <td>2688</td>\n",
       "      <td>Подразделение 1</td>\n",
       "    </tr>\n",
       "    <tr>\n",
       "      <th>3</th>\n",
       "      <td>03.01.2022 0:00:01</td>\n",
       "      <td>Товар 16</td>\n",
       "      <td>562</td>\n",
       "      <td>Подразделение 1</td>\n",
       "    </tr>\n",
       "    <tr>\n",
       "      <th>4</th>\n",
       "      <td>03.01.2022 0:00:01</td>\n",
       "      <td>Товар 17</td>\n",
       "      <td>621</td>\n",
       "      <td>Подразделение 1</td>\n",
       "    </tr>\n",
       "  </tbody>\n",
       "</table>\n",
       "</div>"
      ],
      "text/plain": [
       "                 Дата     Товар  Выпуск    Подразделение\n",
       "0  03.01.2022 0:00:02   Товар 1   33900  Подразделение 1\n",
       "1  03.01.2022 0:00:02   Товар 2    2640  Подразделение 1\n",
       "2  03.01.2022 0:00:02  Товар 20    2688  Подразделение 1\n",
       "3  03.01.2022 0:00:01  Товар 16     562  Подразделение 1\n",
       "4  03.01.2022 0:00:01  Товар 17     621  Подразделение 1"
      ]
     },
     "metadata": {},
     "output_type": "display_data"
    }
   ],
   "source": [
    "basic_info(table_1)"
   ]
  },
  {
   "cell_type": "code",
   "execution_count": 5,
   "id": "30e4ea17",
   "metadata": {},
   "outputs": [
    {
     "name": "stdout",
     "output_type": "stream",
     "text": [
      "<class 'pandas.core.frame.DataFrame'>\n",
      "RangeIndex: 5359 entries, 0 to 5358\n",
      "Data columns (total 4 columns):\n",
      " #   Column         Non-Null Count  Dtype \n",
      "---  ------         --------------  ----- \n",
      " 0   Дата           5359 non-null   object\n",
      " 1   Товар          5359 non-null   object\n",
      " 2   Брак           5359 non-null   int64 \n",
      " 3   Подразделение  5359 non-null   object\n",
      "dtypes: int64(1), object(3)\n",
      "memory usage: 167.6+ KB\n",
      "None\n"
     ]
    },
    {
     "data": {
      "text/html": [
       "<div>\n",
       "<style scoped>\n",
       "    .dataframe tbody tr th:only-of-type {\n",
       "        vertical-align: middle;\n",
       "    }\n",
       "\n",
       "    .dataframe tbody tr th {\n",
       "        vertical-align: top;\n",
       "    }\n",
       "\n",
       "    .dataframe thead th {\n",
       "        text-align: right;\n",
       "    }\n",
       "</style>\n",
       "<table border=\"1\" class=\"dataframe\">\n",
       "  <thead>\n",
       "    <tr style=\"text-align: right;\">\n",
       "      <th></th>\n",
       "      <th>Дата</th>\n",
       "      <th>Товар</th>\n",
       "      <th>Брак</th>\n",
       "      <th>Подразделение</th>\n",
       "    </tr>\n",
       "  </thead>\n",
       "  <tbody>\n",
       "    <tr>\n",
       "      <th>0</th>\n",
       "      <td>03.01.2022 0:00:02</td>\n",
       "      <td>Товар 1</td>\n",
       "      <td>498</td>\n",
       "      <td>Подразделение 1</td>\n",
       "    </tr>\n",
       "    <tr>\n",
       "      <th>1</th>\n",
       "      <td>03.01.2022 0:00:02</td>\n",
       "      <td>Товар 2</td>\n",
       "      <td>20</td>\n",
       "      <td>Подразделение 1</td>\n",
       "    </tr>\n",
       "    <tr>\n",
       "      <th>2</th>\n",
       "      <td>03.01.2022 0:00:02</td>\n",
       "      <td>Товар 3</td>\n",
       "      <td>33</td>\n",
       "      <td>Подразделение 1</td>\n",
       "    </tr>\n",
       "    <tr>\n",
       "      <th>3</th>\n",
       "      <td>03.01.2022 0:00:02</td>\n",
       "      <td>Товар 4</td>\n",
       "      <td>6</td>\n",
       "      <td>Подразделение 1</td>\n",
       "    </tr>\n",
       "    <tr>\n",
       "      <th>4</th>\n",
       "      <td>03.01.2022 0:00:02</td>\n",
       "      <td>Товар 5</td>\n",
       "      <td>16</td>\n",
       "      <td>Подразделение 1</td>\n",
       "    </tr>\n",
       "  </tbody>\n",
       "</table>\n",
       "</div>"
      ],
      "text/plain": [
       "                 Дата    Товар  Брак    Подразделение\n",
       "0  03.01.2022 0:00:02  Товар 1   498  Подразделение 1\n",
       "1  03.01.2022 0:00:02  Товар 2    20  Подразделение 1\n",
       "2  03.01.2022 0:00:02  Товар 3    33  Подразделение 1\n",
       "3  03.01.2022 0:00:02  Товар 4     6  Подразделение 1\n",
       "4  03.01.2022 0:00:02  Товар 5    16  Подразделение 1"
      ]
     },
     "metadata": {},
     "output_type": "display_data"
    }
   ],
   "source": [
    "basic_info(table_2)"
   ]
  },
  {
   "cell_type": "markdown",
   "id": "d4693ba9",
   "metadata": {},
   "source": [
    "- Таблицы считались корректно\n",
    "- Пропусков в данных нет\n",
    "- Для работы с датами приведем их к типу `datetime` \n",
    "- Названия столбцов изменять на латиницу не будем, потому что в дальнейшем задании фигурируют названия на кириллице "
   ]
  },
  {
   "cell_type": "markdown",
   "id": "74e8c424",
   "metadata": {},
   "source": [
    "## Предобработка"
   ]
  },
  {
   "cell_type": "markdown",
   "id": "a4f904e5",
   "metadata": {},
   "source": [
    "### Преобразование типов данных"
   ]
  },
  {
   "cell_type": "markdown",
   "id": "c74d4111",
   "metadata": {},
   "source": [
    "Преобразуем дату:"
   ]
  },
  {
   "cell_type": "code",
   "execution_count": 6,
   "id": "a0f90edf",
   "metadata": {},
   "outputs": [],
   "source": [
    "for i in [table_1, table_2]:\n",
    "    i['Дата'] = pd.to_datetime(i['Дата'], format='%d.%m.%Y %H:%M:%S')"
   ]
  },
  {
   "cell_type": "code",
   "execution_count": 7,
   "id": "1cbcf6ac",
   "metadata": {},
   "outputs": [
    {
     "name": "stdout",
     "output_type": "stream",
     "text": [
      "<class 'pandas.core.frame.DataFrame'>\n",
      "RangeIndex: 4043 entries, 0 to 4042\n",
      "Data columns (total 4 columns):\n",
      " #   Column         Non-Null Count  Dtype         \n",
      "---  ------         --------------  -----         \n",
      " 0   Дата           4043 non-null   datetime64[ns]\n",
      " 1   Товар          4043 non-null   object        \n",
      " 2   Выпуск         4043 non-null   int64         \n",
      " 3   Подразделение  4043 non-null   object        \n",
      "dtypes: datetime64[ns](1), int64(1), object(2)\n",
      "memory usage: 126.5+ KB\n",
      "None\n"
     ]
    },
    {
     "data": {
      "text/html": [
       "<div>\n",
       "<style scoped>\n",
       "    .dataframe tbody tr th:only-of-type {\n",
       "        vertical-align: middle;\n",
       "    }\n",
       "\n",
       "    .dataframe tbody tr th {\n",
       "        vertical-align: top;\n",
       "    }\n",
       "\n",
       "    .dataframe thead th {\n",
       "        text-align: right;\n",
       "    }\n",
       "</style>\n",
       "<table border=\"1\" class=\"dataframe\">\n",
       "  <thead>\n",
       "    <tr style=\"text-align: right;\">\n",
       "      <th></th>\n",
       "      <th>Дата</th>\n",
       "      <th>Товар</th>\n",
       "      <th>Выпуск</th>\n",
       "      <th>Подразделение</th>\n",
       "    </tr>\n",
       "  </thead>\n",
       "  <tbody>\n",
       "    <tr>\n",
       "      <th>0</th>\n",
       "      <td>2022-01-03 00:00:02</td>\n",
       "      <td>Товар 1</td>\n",
       "      <td>33900</td>\n",
       "      <td>Подразделение 1</td>\n",
       "    </tr>\n",
       "    <tr>\n",
       "      <th>1</th>\n",
       "      <td>2022-01-03 00:00:02</td>\n",
       "      <td>Товар 2</td>\n",
       "      <td>2640</td>\n",
       "      <td>Подразделение 1</td>\n",
       "    </tr>\n",
       "    <tr>\n",
       "      <th>2</th>\n",
       "      <td>2022-01-03 00:00:02</td>\n",
       "      <td>Товар 20</td>\n",
       "      <td>2688</td>\n",
       "      <td>Подразделение 1</td>\n",
       "    </tr>\n",
       "    <tr>\n",
       "      <th>3</th>\n",
       "      <td>2022-01-03 00:00:01</td>\n",
       "      <td>Товар 16</td>\n",
       "      <td>562</td>\n",
       "      <td>Подразделение 1</td>\n",
       "    </tr>\n",
       "    <tr>\n",
       "      <th>4</th>\n",
       "      <td>2022-01-03 00:00:01</td>\n",
       "      <td>Товар 17</td>\n",
       "      <td>621</td>\n",
       "      <td>Подразделение 1</td>\n",
       "    </tr>\n",
       "  </tbody>\n",
       "</table>\n",
       "</div>"
      ],
      "text/plain": [
       "                 Дата     Товар  Выпуск    Подразделение\n",
       "0 2022-01-03 00:00:02   Товар 1   33900  Подразделение 1\n",
       "1 2022-01-03 00:00:02   Товар 2    2640  Подразделение 1\n",
       "2 2022-01-03 00:00:02  Товар 20    2688  Подразделение 1\n",
       "3 2022-01-03 00:00:01  Товар 16     562  Подразделение 1\n",
       "4 2022-01-03 00:00:01  Товар 17     621  Подразделение 1"
      ]
     },
     "metadata": {},
     "output_type": "display_data"
    }
   ],
   "source": [
    "basic_info(table_1)"
   ]
  },
  {
   "cell_type": "code",
   "execution_count": 8,
   "id": "c75f6c68",
   "metadata": {},
   "outputs": [
    {
     "name": "stdout",
     "output_type": "stream",
     "text": [
      "<class 'pandas.core.frame.DataFrame'>\n",
      "RangeIndex: 5359 entries, 0 to 5358\n",
      "Data columns (total 4 columns):\n",
      " #   Column         Non-Null Count  Dtype         \n",
      "---  ------         --------------  -----         \n",
      " 0   Дата           5359 non-null   datetime64[ns]\n",
      " 1   Товар          5359 non-null   object        \n",
      " 2   Брак           5359 non-null   int64         \n",
      " 3   Подразделение  5359 non-null   object        \n",
      "dtypes: datetime64[ns](1), int64(1), object(2)\n",
      "memory usage: 167.6+ KB\n",
      "None\n"
     ]
    },
    {
     "data": {
      "text/html": [
       "<div>\n",
       "<style scoped>\n",
       "    .dataframe tbody tr th:only-of-type {\n",
       "        vertical-align: middle;\n",
       "    }\n",
       "\n",
       "    .dataframe tbody tr th {\n",
       "        vertical-align: top;\n",
       "    }\n",
       "\n",
       "    .dataframe thead th {\n",
       "        text-align: right;\n",
       "    }\n",
       "</style>\n",
       "<table border=\"1\" class=\"dataframe\">\n",
       "  <thead>\n",
       "    <tr style=\"text-align: right;\">\n",
       "      <th></th>\n",
       "      <th>Дата</th>\n",
       "      <th>Товар</th>\n",
       "      <th>Брак</th>\n",
       "      <th>Подразделение</th>\n",
       "    </tr>\n",
       "  </thead>\n",
       "  <tbody>\n",
       "    <tr>\n",
       "      <th>0</th>\n",
       "      <td>2022-01-03 00:00:02</td>\n",
       "      <td>Товар 1</td>\n",
       "      <td>498</td>\n",
       "      <td>Подразделение 1</td>\n",
       "    </tr>\n",
       "    <tr>\n",
       "      <th>1</th>\n",
       "      <td>2022-01-03 00:00:02</td>\n",
       "      <td>Товар 2</td>\n",
       "      <td>20</td>\n",
       "      <td>Подразделение 1</td>\n",
       "    </tr>\n",
       "    <tr>\n",
       "      <th>2</th>\n",
       "      <td>2022-01-03 00:00:02</td>\n",
       "      <td>Товар 3</td>\n",
       "      <td>33</td>\n",
       "      <td>Подразделение 1</td>\n",
       "    </tr>\n",
       "    <tr>\n",
       "      <th>3</th>\n",
       "      <td>2022-01-03 00:00:02</td>\n",
       "      <td>Товар 4</td>\n",
       "      <td>6</td>\n",
       "      <td>Подразделение 1</td>\n",
       "    </tr>\n",
       "    <tr>\n",
       "      <th>4</th>\n",
       "      <td>2022-01-03 00:00:02</td>\n",
       "      <td>Товар 5</td>\n",
       "      <td>16</td>\n",
       "      <td>Подразделение 1</td>\n",
       "    </tr>\n",
       "  </tbody>\n",
       "</table>\n",
       "</div>"
      ],
      "text/plain": [
       "                 Дата    Товар  Брак    Подразделение\n",
       "0 2022-01-03 00:00:02  Товар 1   498  Подразделение 1\n",
       "1 2022-01-03 00:00:02  Товар 2    20  Подразделение 1\n",
       "2 2022-01-03 00:00:02  Товар 3    33  Подразделение 1\n",
       "3 2022-01-03 00:00:02  Товар 4     6  Подразделение 1\n",
       "4 2022-01-03 00:00:02  Товар 5    16  Подразделение 1"
      ]
     },
     "metadata": {},
     "output_type": "display_data"
    }
   ],
   "source": [
    "basic_info(table_2)"
   ]
  },
  {
   "cell_type": "markdown",
   "id": "d80dad95",
   "metadata": {},
   "source": [
    "Определим, несет ли полезную нагрузку часть даты с указанием времени:"
   ]
  },
  {
   "cell_type": "code",
   "execution_count": 9,
   "id": "f0fb72f4",
   "metadata": {},
   "outputs": [
    {
     "data": {
      "text/plain": [
       "00:00:01    4038\n",
       "00:00:02       4\n",
       "00:00:03       1\n",
       "Name: Дата, dtype: int64"
      ]
     },
     "execution_count": 9,
     "metadata": {},
     "output_type": "execute_result"
    }
   ],
   "source": [
    "table_1['Дата'].dt.time.value_counts()"
   ]
  },
  {
   "cell_type": "code",
   "execution_count": 10,
   "id": "f77f4678",
   "metadata": {},
   "outputs": [
    {
     "data": {
      "text/plain": [
       "00:00:02    5341\n",
       "00:00:03      13\n",
       "16:13:34       3\n",
       "00:00:00       2\n",
       "Name: Дата, dtype: int64"
      ]
     },
     "execution_count": 10,
     "metadata": {},
     "output_type": "execute_result"
    }
   ],
   "source": [
    "table_2['Дата'].dt.time.value_counts()"
   ]
  },
  {
   "cell_type": "markdown",
   "id": "d5d9e526",
   "metadata": {},
   "source": [
    "- Это явно формат ведения логов, но необходимо уточнить: почему иногда время отличается от заданного? Ручная запись?\n",
    "- Полезной нагрузки указание на время не несет, особенно в контексте задачи\n",
    "- Избавимся от части со временем:"
   ]
  },
  {
   "cell_type": "code",
   "execution_count": 11,
   "id": "fb858127",
   "metadata": {},
   "outputs": [],
   "source": [
    "for i in [table_1, table_2]:\n",
    "    i['Дата'] = i['Дата'].dt.normalize()"
   ]
  },
  {
   "cell_type": "code",
   "execution_count": 12,
   "id": "62f31b1c",
   "metadata": {},
   "outputs": [
    {
     "name": "stdout",
     "output_type": "stream",
     "text": [
      "<class 'pandas.core.frame.DataFrame'>\n",
      "RangeIndex: 4043 entries, 0 to 4042\n",
      "Data columns (total 4 columns):\n",
      " #   Column         Non-Null Count  Dtype         \n",
      "---  ------         --------------  -----         \n",
      " 0   Дата           4043 non-null   datetime64[ns]\n",
      " 1   Товар          4043 non-null   object        \n",
      " 2   Выпуск         4043 non-null   int64         \n",
      " 3   Подразделение  4043 non-null   object        \n",
      "dtypes: datetime64[ns](1), int64(1), object(2)\n",
      "memory usage: 126.5+ KB\n",
      "None\n"
     ]
    },
    {
     "data": {
      "text/html": [
       "<div>\n",
       "<style scoped>\n",
       "    .dataframe tbody tr th:only-of-type {\n",
       "        vertical-align: middle;\n",
       "    }\n",
       "\n",
       "    .dataframe tbody tr th {\n",
       "        vertical-align: top;\n",
       "    }\n",
       "\n",
       "    .dataframe thead th {\n",
       "        text-align: right;\n",
       "    }\n",
       "</style>\n",
       "<table border=\"1\" class=\"dataframe\">\n",
       "  <thead>\n",
       "    <tr style=\"text-align: right;\">\n",
       "      <th></th>\n",
       "      <th>Дата</th>\n",
       "      <th>Товар</th>\n",
       "      <th>Выпуск</th>\n",
       "      <th>Подразделение</th>\n",
       "    </tr>\n",
       "  </thead>\n",
       "  <tbody>\n",
       "    <tr>\n",
       "      <th>0</th>\n",
       "      <td>2022-01-03</td>\n",
       "      <td>Товар 1</td>\n",
       "      <td>33900</td>\n",
       "      <td>Подразделение 1</td>\n",
       "    </tr>\n",
       "    <tr>\n",
       "      <th>1</th>\n",
       "      <td>2022-01-03</td>\n",
       "      <td>Товар 2</td>\n",
       "      <td>2640</td>\n",
       "      <td>Подразделение 1</td>\n",
       "    </tr>\n",
       "    <tr>\n",
       "      <th>2</th>\n",
       "      <td>2022-01-03</td>\n",
       "      <td>Товар 20</td>\n",
       "      <td>2688</td>\n",
       "      <td>Подразделение 1</td>\n",
       "    </tr>\n",
       "    <tr>\n",
       "      <th>3</th>\n",
       "      <td>2022-01-03</td>\n",
       "      <td>Товар 16</td>\n",
       "      <td>562</td>\n",
       "      <td>Подразделение 1</td>\n",
       "    </tr>\n",
       "    <tr>\n",
       "      <th>4</th>\n",
       "      <td>2022-01-03</td>\n",
       "      <td>Товар 17</td>\n",
       "      <td>621</td>\n",
       "      <td>Подразделение 1</td>\n",
       "    </tr>\n",
       "  </tbody>\n",
       "</table>\n",
       "</div>"
      ],
      "text/plain": [
       "        Дата     Товар  Выпуск    Подразделение\n",
       "0 2022-01-03   Товар 1   33900  Подразделение 1\n",
       "1 2022-01-03   Товар 2    2640  Подразделение 1\n",
       "2 2022-01-03  Товар 20    2688  Подразделение 1\n",
       "3 2022-01-03  Товар 16     562  Подразделение 1\n",
       "4 2022-01-03  Товар 17     621  Подразделение 1"
      ]
     },
     "metadata": {},
     "output_type": "display_data"
    }
   ],
   "source": [
    "basic_info(table_1)"
   ]
  },
  {
   "cell_type": "code",
   "execution_count": 13,
   "id": "876c5421",
   "metadata": {},
   "outputs": [
    {
     "name": "stdout",
     "output_type": "stream",
     "text": [
      "<class 'pandas.core.frame.DataFrame'>\n",
      "RangeIndex: 5359 entries, 0 to 5358\n",
      "Data columns (total 4 columns):\n",
      " #   Column         Non-Null Count  Dtype         \n",
      "---  ------         --------------  -----         \n",
      " 0   Дата           5359 non-null   datetime64[ns]\n",
      " 1   Товар          5359 non-null   object        \n",
      " 2   Брак           5359 non-null   int64         \n",
      " 3   Подразделение  5359 non-null   object        \n",
      "dtypes: datetime64[ns](1), int64(1), object(2)\n",
      "memory usage: 167.6+ KB\n",
      "None\n"
     ]
    },
    {
     "data": {
      "text/html": [
       "<div>\n",
       "<style scoped>\n",
       "    .dataframe tbody tr th:only-of-type {\n",
       "        vertical-align: middle;\n",
       "    }\n",
       "\n",
       "    .dataframe tbody tr th {\n",
       "        vertical-align: top;\n",
       "    }\n",
       "\n",
       "    .dataframe thead th {\n",
       "        text-align: right;\n",
       "    }\n",
       "</style>\n",
       "<table border=\"1\" class=\"dataframe\">\n",
       "  <thead>\n",
       "    <tr style=\"text-align: right;\">\n",
       "      <th></th>\n",
       "      <th>Дата</th>\n",
       "      <th>Товар</th>\n",
       "      <th>Брак</th>\n",
       "      <th>Подразделение</th>\n",
       "    </tr>\n",
       "  </thead>\n",
       "  <tbody>\n",
       "    <tr>\n",
       "      <th>0</th>\n",
       "      <td>2022-01-03</td>\n",
       "      <td>Товар 1</td>\n",
       "      <td>498</td>\n",
       "      <td>Подразделение 1</td>\n",
       "    </tr>\n",
       "    <tr>\n",
       "      <th>1</th>\n",
       "      <td>2022-01-03</td>\n",
       "      <td>Товар 2</td>\n",
       "      <td>20</td>\n",
       "      <td>Подразделение 1</td>\n",
       "    </tr>\n",
       "    <tr>\n",
       "      <th>2</th>\n",
       "      <td>2022-01-03</td>\n",
       "      <td>Товар 3</td>\n",
       "      <td>33</td>\n",
       "      <td>Подразделение 1</td>\n",
       "    </tr>\n",
       "    <tr>\n",
       "      <th>3</th>\n",
       "      <td>2022-01-03</td>\n",
       "      <td>Товар 4</td>\n",
       "      <td>6</td>\n",
       "      <td>Подразделение 1</td>\n",
       "    </tr>\n",
       "    <tr>\n",
       "      <th>4</th>\n",
       "      <td>2022-01-03</td>\n",
       "      <td>Товар 5</td>\n",
       "      <td>16</td>\n",
       "      <td>Подразделение 1</td>\n",
       "    </tr>\n",
       "  </tbody>\n",
       "</table>\n",
       "</div>"
      ],
      "text/plain": [
       "        Дата    Товар  Брак    Подразделение\n",
       "0 2022-01-03  Товар 1   498  Подразделение 1\n",
       "1 2022-01-03  Товар 2    20  Подразделение 1\n",
       "2 2022-01-03  Товар 3    33  Подразделение 1\n",
       "3 2022-01-03  Товар 4     6  Подразделение 1\n",
       "4 2022-01-03  Товар 5    16  Подразделение 1"
      ]
     },
     "metadata": {},
     "output_type": "display_data"
    }
   ],
   "source": [
    "basic_info(table_2)"
   ]
  },
  {
   "cell_type": "markdown",
   "id": "fcd9b31a",
   "metadata": {},
   "source": [
    "### Изучение дубликатов"
   ]
  },
  {
   "cell_type": "markdown",
   "id": "a4c78ade",
   "metadata": {},
   "source": [
    "Проверим наличие неявных дубликатов в названиях товаров и подразделений:"
   ]
  },
  {
   "cell_type": "code",
   "execution_count": 14,
   "id": "eff20093",
   "metadata": {},
   "outputs": [
    {
     "name": "stdout",
     "output_type": "stream",
     "text": [
      "['Товар 1' 'Товар 10' 'Товар 11' 'Товар 12' 'Товар 13' 'Товар 14'\n",
      " 'Товар 15' 'Товар 16' 'Товар 17' 'Товар 18' 'Товар 19' 'Товар 2'\n",
      " 'Товар 20' 'Товар 21' 'Товар 22' 'Товар 23' 'Товар 3' 'Товар 4' 'Товар 5'\n",
      " 'Товар 6' 'Товар 7' 'Товар 8' 'Товар 9'] \n",
      "\n",
      "['Подразделение 1' 'Подразделение 2']\n",
      "--------------------------------------------------\n",
      "['Товар 1' 'Товар 10' 'Товар 11' 'Товар 12' 'Товар 13' 'Товар 14'\n",
      " 'Товар 15' 'Товар 16' 'Товар 17' 'Товар 18' 'Товар 19' 'Товар 2'\n",
      " 'Товар 20' 'Товар 21' 'Товар 22' 'Товар 23' 'Товар 3' 'Товар 4' 'Товар 5'\n",
      " 'Товар 6' 'Товар 7' 'Товар 8' 'Товар 9'] \n",
      "\n",
      "['Подразделение 1' 'Подразделение 2']\n",
      "--------------------------------------------------\n"
     ]
    }
   ],
   "source": [
    "for i in [table_1, table_2]:\n",
    "    print(i['Товар'].sort_values().unique(), '\\n')\n",
    "    print(i['Подразделение'].unique())\n",
    "    print('-' * 50)"
   ]
  },
  {
   "cell_type": "markdown",
   "id": "57af15a8",
   "metadata": {},
   "source": [
    "- Неявных дубликатов не выявлено\n",
    "- В таблицах полное совпадение ассортимента товаров и видов подразделений"
   ]
  },
  {
   "cell_type": "markdown",
   "id": "6dfc912b",
   "metadata": {},
   "source": [
    "Проверим на наличие полных дубликатов"
   ]
  },
  {
   "cell_type": "code",
   "execution_count": 15,
   "id": "71ee0156",
   "metadata": {},
   "outputs": [
    {
     "name": "stdout",
     "output_type": "stream",
     "text": [
      "0\n",
      "--------------------------------------------------\n",
      "36\n",
      "--------------------------------------------------\n"
     ]
    }
   ],
   "source": [
    "for i in [table_1, table_2]:\n",
    "    print(i.duplicated().sum())\n",
    "    print('-' * 50)"
   ]
  },
  {
   "cell_type": "markdown",
   "id": "a4e2775e",
   "metadata": {},
   "source": [
    "Во второй таблице есть 36 дубликатов, рассмотрим подробнее:"
   ]
  },
  {
   "cell_type": "code",
   "execution_count": 16,
   "id": "19d2fc52",
   "metadata": {},
   "outputs": [
    {
     "data": {
      "text/html": [
       "<div>\n",
       "<style scoped>\n",
       "    .dataframe tbody tr th:only-of-type {\n",
       "        vertical-align: middle;\n",
       "    }\n",
       "\n",
       "    .dataframe tbody tr th {\n",
       "        vertical-align: top;\n",
       "    }\n",
       "\n",
       "    .dataframe thead th {\n",
       "        text-align: right;\n",
       "    }\n",
       "</style>\n",
       "<table border=\"1\" class=\"dataframe\">\n",
       "  <thead>\n",
       "    <tr style=\"text-align: right;\">\n",
       "      <th></th>\n",
       "      <th>Дата</th>\n",
       "      <th>Товар</th>\n",
       "      <th>Брак</th>\n",
       "      <th>Подразделение</th>\n",
       "    </tr>\n",
       "  </thead>\n",
       "  <tbody>\n",
       "    <tr>\n",
       "      <th>3083</th>\n",
       "      <td>2022-06-20</td>\n",
       "      <td>Товар 10</td>\n",
       "      <td>2</td>\n",
       "      <td>Подразделение 1</td>\n",
       "    </tr>\n",
       "    <tr>\n",
       "      <th>3090</th>\n",
       "      <td>2022-06-20</td>\n",
       "      <td>Товар 10</td>\n",
       "      <td>2</td>\n",
       "      <td>Подразделение 1</td>\n",
       "    </tr>\n",
       "    <tr>\n",
       "      <th>3107</th>\n",
       "      <td>2022-06-21</td>\n",
       "      <td>Товар 10</td>\n",
       "      <td>3</td>\n",
       "      <td>Подразделение 1</td>\n",
       "    </tr>\n",
       "    <tr>\n",
       "      <th>3117</th>\n",
       "      <td>2022-06-21</td>\n",
       "      <td>Товар 10</td>\n",
       "      <td>3</td>\n",
       "      <td>Подразделение 1</td>\n",
       "    </tr>\n",
       "    <tr>\n",
       "      <th>1732</th>\n",
       "      <td>2022-04-10</td>\n",
       "      <td>Товар 10</td>\n",
       "      <td>6</td>\n",
       "      <td>Подразделение 1</td>\n",
       "    </tr>\n",
       "    <tr>\n",
       "      <th>1740</th>\n",
       "      <td>2022-04-10</td>\n",
       "      <td>Товар 10</td>\n",
       "      <td>6</td>\n",
       "      <td>Подразделение 1</td>\n",
       "    </tr>\n",
       "    <tr>\n",
       "      <th>1088</th>\n",
       "      <td>2022-03-03</td>\n",
       "      <td>Товар 11</td>\n",
       "      <td>1</td>\n",
       "      <td>Подразделение 1</td>\n",
       "    </tr>\n",
       "    <tr>\n",
       "      <th>1098</th>\n",
       "      <td>2022-03-03</td>\n",
       "      <td>Товар 11</td>\n",
       "      <td>1</td>\n",
       "      <td>Подразделение 1</td>\n",
       "    </tr>\n",
       "    <tr>\n",
       "      <th>2444</th>\n",
       "      <td>2022-05-19</td>\n",
       "      <td>Товар 11</td>\n",
       "      <td>1</td>\n",
       "      <td>Подразделение 1</td>\n",
       "    </tr>\n",
       "    <tr>\n",
       "      <th>2454</th>\n",
       "      <td>2022-05-19</td>\n",
       "      <td>Товар 11</td>\n",
       "      <td>1</td>\n",
       "      <td>Подразделение 1</td>\n",
       "    </tr>\n",
       "    <tr>\n",
       "      <th>4495</th>\n",
       "      <td>2022-08-23</td>\n",
       "      <td>Товар 11</td>\n",
       "      <td>1</td>\n",
       "      <td>Подразделение 1</td>\n",
       "    </tr>\n",
       "    <tr>\n",
       "      <th>4503</th>\n",
       "      <td>2022-08-23</td>\n",
       "      <td>Товар 11</td>\n",
       "      <td>1</td>\n",
       "      <td>Подразделение 1</td>\n",
       "    </tr>\n",
       "    <tr>\n",
       "      <th>4881</th>\n",
       "      <td>2022-09-09</td>\n",
       "      <td>Товар 11</td>\n",
       "      <td>1</td>\n",
       "      <td>Подразделение 1</td>\n",
       "    </tr>\n",
       "    <tr>\n",
       "      <th>4889</th>\n",
       "      <td>2022-09-09</td>\n",
       "      <td>Товар 11</td>\n",
       "      <td>1</td>\n",
       "      <td>Подразделение 1</td>\n",
       "    </tr>\n",
       "    <tr>\n",
       "      <th>3519</th>\n",
       "      <td>2022-07-10</td>\n",
       "      <td>Товар 11</td>\n",
       "      <td>2</td>\n",
       "      <td>Подразделение 1</td>\n",
       "    </tr>\n",
       "    <tr>\n",
       "      <th>3532</th>\n",
       "      <td>2022-07-10</td>\n",
       "      <td>Товар 11</td>\n",
       "      <td>2</td>\n",
       "      <td>Подразделение 1</td>\n",
       "    </tr>\n",
       "    <tr>\n",
       "      <th>1352</th>\n",
       "      <td>2022-03-17</td>\n",
       "      <td>Товар 11</td>\n",
       "      <td>5</td>\n",
       "      <td>Подразделение 1</td>\n",
       "    </tr>\n",
       "    <tr>\n",
       "      <th>1363</th>\n",
       "      <td>2022-03-17</td>\n",
       "      <td>Товар 11</td>\n",
       "      <td>5</td>\n",
       "      <td>Подразделение 1</td>\n",
       "    </tr>\n",
       "  </tbody>\n",
       "</table>\n",
       "</div>"
      ],
      "text/plain": [
       "           Дата     Товар  Брак    Подразделение\n",
       "3083 2022-06-20  Товар 10     2  Подразделение 1\n",
       "3090 2022-06-20  Товар 10     2  Подразделение 1\n",
       "3107 2022-06-21  Товар 10     3  Подразделение 1\n",
       "3117 2022-06-21  Товар 10     3  Подразделение 1\n",
       "1732 2022-04-10  Товар 10     6  Подразделение 1\n",
       "1740 2022-04-10  Товар 10     6  Подразделение 1\n",
       "1088 2022-03-03  Товар 11     1  Подразделение 1\n",
       "1098 2022-03-03  Товар 11     1  Подразделение 1\n",
       "2444 2022-05-19  Товар 11     1  Подразделение 1\n",
       "2454 2022-05-19  Товар 11     1  Подразделение 1\n",
       "4495 2022-08-23  Товар 11     1  Подразделение 1\n",
       "4503 2022-08-23  Товар 11     1  Подразделение 1\n",
       "4881 2022-09-09  Товар 11     1  Подразделение 1\n",
       "4889 2022-09-09  Товар 11     1  Подразделение 1\n",
       "3519 2022-07-10  Товар 11     2  Подразделение 1\n",
       "3532 2022-07-10  Товар 11     2  Подразделение 1\n",
       "1352 2022-03-17  Товар 11     5  Подразделение 1\n",
       "1363 2022-03-17  Товар 11     5  Подразделение 1"
      ]
     },
     "execution_count": 16,
     "metadata": {},
     "output_type": "execute_result"
    }
   ],
   "source": [
    "(table_2[table_2.duplicated(keep=False)]\n",
    " .sort_values(by=['Товар', 'Брак'])\n",
    " .head(18))"
   ]
  },
  {
   "cell_type": "markdown",
   "id": "836ad451",
   "metadata": {},
   "source": [
    "Удалим дубликаты, чтобы не искажать данные:"
   ]
  },
  {
   "cell_type": "code",
   "execution_count": 17,
   "id": "59582126",
   "metadata": {},
   "outputs": [
    {
     "data": {
      "text/plain": [
       "0"
      ]
     },
     "execution_count": 17,
     "metadata": {},
     "output_type": "execute_result"
    }
   ],
   "source": [
    "table_2 = table_2.drop_duplicates()\n",
    "table_2.duplicated().sum()"
   ]
  },
  {
   "cell_type": "markdown",
   "id": "1ef3b7d7",
   "metadata": {},
   "source": [
    "Удаление успешно"
   ]
  },
  {
   "cell_type": "markdown",
   "id": "93a15d7f",
   "metadata": {},
   "source": [
    "Проверим наличие дубликатов по дате, товару и подразделению (несколько записей в один день не несет полезной нагрузки и усложнит процесс анализа)"
   ]
  },
  {
   "cell_type": "code",
   "execution_count": 18,
   "id": "b4f9eb72",
   "metadata": {},
   "outputs": [
    {
     "name": "stdout",
     "output_type": "stream",
     "text": [
      "0\n",
      "--------------------------------------------------\n",
      "1569\n",
      "--------------------------------------------------\n"
     ]
    }
   ],
   "source": [
    "for i in [table_1, table_2]:\n",
    "    print(i.duplicated(subset=['Дата', 'Товар', 'Подразделение']).sum())\n",
    "    print('-' * 50)"
   ]
  },
  {
   "cell_type": "markdown",
   "id": "78f7636e",
   "metadata": {},
   "source": [
    "В таблице с браком существуют несколько записей в одну дату для одного товара и подразделения, избавимся от них:"
   ]
  },
  {
   "cell_type": "code",
   "execution_count": 19,
   "id": "784f1065",
   "metadata": {},
   "outputs": [],
   "source": [
    "table_2 = (table_2.groupby(['Дата', 'Товар', 'Подразделение'], as_index=False)\n",
    "              .agg({'Брак':'sum'}))\n"
   ]
  },
  {
   "cell_type": "code",
   "execution_count": 20,
   "id": "475469b9",
   "metadata": {},
   "outputs": [
    {
     "data": {
      "text/plain": [
       "0"
      ]
     },
     "execution_count": 20,
     "metadata": {},
     "output_type": "execute_result"
    }
   ],
   "source": [
    "table_2.duplicated(subset=['Дата', 'Товар', 'Подразделение']).sum()"
   ]
  },
  {
   "cell_type": "code",
   "execution_count": 21,
   "id": "4bb53097",
   "metadata": {},
   "outputs": [
    {
     "name": "stdout",
     "output_type": "stream",
     "text": [
      "<class 'pandas.core.frame.DataFrame'>\n",
      "RangeIndex: 3754 entries, 0 to 3753\n",
      "Data columns (total 4 columns):\n",
      " #   Column         Non-Null Count  Dtype         \n",
      "---  ------         --------------  -----         \n",
      " 0   Дата           3754 non-null   datetime64[ns]\n",
      " 1   Товар          3754 non-null   object        \n",
      " 2   Подразделение  3754 non-null   object        \n",
      " 3   Брак           3754 non-null   int64         \n",
      "dtypes: datetime64[ns](1), int64(1), object(2)\n",
      "memory usage: 117.4+ KB\n",
      "None\n"
     ]
    },
    {
     "data": {
      "text/html": [
       "<div>\n",
       "<style scoped>\n",
       "    .dataframe tbody tr th:only-of-type {\n",
       "        vertical-align: middle;\n",
       "    }\n",
       "\n",
       "    .dataframe tbody tr th {\n",
       "        vertical-align: top;\n",
       "    }\n",
       "\n",
       "    .dataframe thead th {\n",
       "        text-align: right;\n",
       "    }\n",
       "</style>\n",
       "<table border=\"1\" class=\"dataframe\">\n",
       "  <thead>\n",
       "    <tr style=\"text-align: right;\">\n",
       "      <th></th>\n",
       "      <th>Дата</th>\n",
       "      <th>Товар</th>\n",
       "      <th>Подразделение</th>\n",
       "      <th>Брак</th>\n",
       "    </tr>\n",
       "  </thead>\n",
       "  <tbody>\n",
       "    <tr>\n",
       "      <th>0</th>\n",
       "      <td>2022-01-01</td>\n",
       "      <td>Товар 10</td>\n",
       "      <td>Подразделение 1</td>\n",
       "      <td>401</td>\n",
       "    </tr>\n",
       "    <tr>\n",
       "      <th>1</th>\n",
       "      <td>2022-01-01</td>\n",
       "      <td>Товар 11</td>\n",
       "      <td>Подразделение 1</td>\n",
       "      <td>134</td>\n",
       "    </tr>\n",
       "    <tr>\n",
       "      <th>2</th>\n",
       "      <td>2022-01-01</td>\n",
       "      <td>Товар 12</td>\n",
       "      <td>Подразделение 1</td>\n",
       "      <td>129</td>\n",
       "    </tr>\n",
       "    <tr>\n",
       "      <th>3</th>\n",
       "      <td>2022-01-01</td>\n",
       "      <td>Товар 13</td>\n",
       "      <td>Подразделение 1</td>\n",
       "      <td>271</td>\n",
       "    </tr>\n",
       "    <tr>\n",
       "      <th>4</th>\n",
       "      <td>2022-01-01</td>\n",
       "      <td>Товар 14</td>\n",
       "      <td>Подразделение 1</td>\n",
       "      <td>587</td>\n",
       "    </tr>\n",
       "  </tbody>\n",
       "</table>\n",
       "</div>"
      ],
      "text/plain": [
       "        Дата     Товар    Подразделение  Брак\n",
       "0 2022-01-01  Товар 10  Подразделение 1   401\n",
       "1 2022-01-01  Товар 11  Подразделение 1   134\n",
       "2 2022-01-01  Товар 12  Подразделение 1   129\n",
       "3 2022-01-01  Товар 13  Подразделение 1   271\n",
       "4 2022-01-01  Товар 14  Подразделение 1   587"
      ]
     },
     "metadata": {},
     "output_type": "display_data"
    }
   ],
   "source": [
    "basic_info(table_2)"
   ]
  },
  {
   "cell_type": "markdown",
   "id": "a6948f9a",
   "metadata": {},
   "source": [
    "### Аномальные значения"
   ]
  },
  {
   "cell_type": "code",
   "execution_count": 22,
   "id": "48a5bcaf",
   "metadata": {
    "scrolled": false
   },
   "outputs": [
    {
     "data": {
      "image/png": "[encoded data removed]",
      "text/plain": [
       "<Figure size 1000x2000 with 2 Axes>"
      ]
     },
     "metadata": {},
     "output_type": "display_data"
    }
   ],
   "source": [
    "fig, ax = plt.subplots(2, 1)\n",
    "fig.set(size_inches=(10, 20), tight_layout=True)\n",
    "sns.color_palette('deep')\n",
    "\n",
    "sns.boxplot(data=table_1.sort_values(by='Товар'), x='Выпуск', y='Товар', ax=ax[0]);\n",
    "ax[0].set(ylabel=None, xlabel='Количество выпуска', title='Диаграмма размаха выпуска продукции по товарам \\n');\n",
    "\n",
    "sns.boxplot(data=table_2.sort_values(by='Товар'), x='Брак', y='Товар', ax=ax[1]);\n",
    "ax[1].set(ylabel=None, xlabel='Количество брака', title='Диаграмма размаха брака продукции по товарам \\n');"
   ]
  },
  {
   "cell_type": "markdown",
   "id": "29f8ef28",
   "metadata": {},
   "source": [
    "- `Товар 1` -- самый выпускаемый, оставшиеся товары далеко позади, из-за этого не видны их диаграммы\n",
    "- Построим диаграммы без `Товара 1`:"
   ]
  },
  {
   "cell_type": "code",
   "execution_count": 23,
   "id": "37c84b83",
   "metadata": {
    "scrolled": false
   },
   "outputs": [
    {
     "data": {
      "image/png": "[encoded data removed]",
      "text/plain": [
       "<Figure size 1000x2000 with 2 Axes>"
      ]
     },
     "metadata": {},
     "output_type": "display_data"
    }
   ],
   "source": [
    "fig, ax = plt.subplots(2, 1)\n",
    "fig.set(size_inches=(10, 20), tight_layout=True)\n",
    "\n",
    "sns.boxplot(data=table_1.query('Товар != \"Товар 1\"').sort_values(by='Товар'), x='Выпуск', y='Товар', ax=ax[0]);\n",
    "ax[0].set(ylabel=None, xlabel='Количество выпуска', title='Диаграмма размаха выпуска продукции по товарам \\n');\n",
    "\n",
    "sns.boxplot(data=table_2.query('Товар != \"Товар 1\"').sort_values(by='Товар'), x='Брак', y='Товар', ax=ax[1]);\n",
    "ax[1].set(ylabel=None, xlabel='Количество брака', title='Диаграмма размаха брака продукции по товарам \\n');"
   ]
  },
  {
   "cell_type": "markdown",
   "id": "d4cce5c0",
   "metadata": {},
   "source": [
    "- В данных значительное количество выбросов\n",
    "- Аномально больших значений в количестве брака больше, чем в количестве выпуска, что логично: в производстве всегда что-то может пойти не так\n",
    "- Выбросы оставим как есть, поскольку они характеризуют статистику технологического процесса, которую изучим далее"
   ]
  },
  {
   "cell_type": "markdown",
   "id": "4ccbac7c",
   "metadata": {},
   "source": [
    "Проверим временной интервал двух таблиц: совпадает ли он?"
   ]
  },
  {
   "cell_type": "code",
   "execution_count": 24,
   "id": "726f78d9",
   "metadata": {},
   "outputs": [
    {
     "data": {
      "image/png": "[encoded data removed]",
      "text/plain": [
       "<Figure size 1000x500 with 2 Axes>"
      ]
     },
     "metadata": {},
     "output_type": "display_data"
    }
   ],
   "source": [
    "fig, ax = plt.subplots(2, 1)\n",
    "fig.set(size_inches=(10, 5), tight_layout=True)\n",
    "fig.suptitle('Распределение записей во времени', fontsize=15)\n",
    "\n",
    "sns.histplot(data=table_1, x='Дата', ax=ax[0], binwidth=1);\n",
    "ax[0].set(ylabel=None, xlabel=None, title='Таблица выпуска');\n",
    "\n",
    "sns.histplot(data=table_2, x='Дата', ax=ax[1], binwidth=1);\n",
    "ax[1].set(ylabel=None, xlabel=None, title='Таблица брака');"
   ]
  },
  {
   "cell_type": "markdown",
   "id": "636393ee",
   "metadata": {},
   "source": [
    "Временной интервал таблиц совпадает"
   ]
  },
  {
   "cell_type": "markdown",
   "id": "26dda8d4",
   "metadata": {},
   "source": [
    "### **Вывод**"
   ]
  },
  {
   "cell_type": "markdown",
   "id": "eb16767f",
   "metadata": {},
   "source": [
    "- Дата приведена к типу `datetime`\n",
    "- Обнаружено 36 полных дубликатов в таблице с браком, дублирующиеся значения удалены\n",
    "- В таблице с браком присутствовали 1569 лишних записей для конкретного дня/товара/подразделения\n",
    "    - Записи заменены одной записью для этого дня/товара/подразделения с суммарным количеством брака"
   ]
  },
  {
   "cell_type": "markdown",
   "id": "abfc6624",
   "metadata": {},
   "source": [
    "## Решение задания"
   ]
  },
  {
   "cell_type": "markdown",
   "id": "002604eb",
   "metadata": {},
   "source": [
    "**Сначала объединим исходные таблицы**"
   ]
  },
  {
   "cell_type": "markdown",
   "id": "bc0fabc5",
   "metadata": {},
   "source": [
    "- Для корректного соединения таблиц необходимо совпадение трех полей: дата, товар и подразделение; тогда мы будем уверены в том, что это соответствующие друг другу количества брака и выпуска\n",
    "- Однако, в первой таблице больше записей (вероятно, это дни для товаров/подразделений, прошедшие без брака вовсе)\n",
    "    - Cохраним все записи первой таблицы при объединении:"
   ]
  },
  {
   "cell_type": "code",
   "execution_count": 25,
   "id": "f713d1da",
   "metadata": {},
   "outputs": [],
   "source": [
    "table_3 = table_1.merge(table_2, \n",
    "                        on=['Дата', 'Товар', 'Подразделение'], \n",
    "                        how='left')"
   ]
  },
  {
   "cell_type": "code",
   "execution_count": 26,
   "id": "fdd413a4",
   "metadata": {},
   "outputs": [
    {
     "name": "stdout",
     "output_type": "stream",
     "text": [
      "<class 'pandas.core.frame.DataFrame'>\n",
      "Int64Index: 4043 entries, 0 to 4042\n",
      "Data columns (total 5 columns):\n",
      " #   Column         Non-Null Count  Dtype         \n",
      "---  ------         --------------  -----         \n",
      " 0   Дата           4043 non-null   datetime64[ns]\n",
      " 1   Товар          4043 non-null   object        \n",
      " 2   Выпуск         4043 non-null   int64         \n",
      " 3   Подразделение  4043 non-null   object        \n",
      " 4   Брак           3688 non-null   float64       \n",
      "dtypes: datetime64[ns](1), float64(1), int64(1), object(2)\n",
      "memory usage: 189.5+ KB\n",
      "None\n"
     ]
    },
    {
     "data": {
      "text/html": [
       "<div>\n",
       "<style scoped>\n",
       "    .dataframe tbody tr th:only-of-type {\n",
       "        vertical-align: middle;\n",
       "    }\n",
       "\n",
       "    .dataframe tbody tr th {\n",
       "        vertical-align: top;\n",
       "    }\n",
       "\n",
       "    .dataframe thead th {\n",
       "        text-align: right;\n",
       "    }\n",
       "</style>\n",
       "<table border=\"1\" class=\"dataframe\">\n",
       "  <thead>\n",
       "    <tr style=\"text-align: right;\">\n",
       "      <th></th>\n",
       "      <th>Дата</th>\n",
       "      <th>Товар</th>\n",
       "      <th>Выпуск</th>\n",
       "      <th>Подразделение</th>\n",
       "      <th>Брак</th>\n",
       "    </tr>\n",
       "  </thead>\n",
       "  <tbody>\n",
       "    <tr>\n",
       "      <th>0</th>\n",
       "      <td>2022-01-03</td>\n",
       "      <td>Товар 1</td>\n",
       "      <td>33900</td>\n",
       "      <td>Подразделение 1</td>\n",
       "      <td>611.00</td>\n",
       "    </tr>\n",
       "    <tr>\n",
       "      <th>1</th>\n",
       "      <td>2022-01-03</td>\n",
       "      <td>Товар 2</td>\n",
       "      <td>2640</td>\n",
       "      <td>Подразделение 1</td>\n",
       "      <td>32.00</td>\n",
       "    </tr>\n",
       "    <tr>\n",
       "      <th>2</th>\n",
       "      <td>2022-01-03</td>\n",
       "      <td>Товар 20</td>\n",
       "      <td>2688</td>\n",
       "      <td>Подразделение 1</td>\n",
       "      <td>5.00</td>\n",
       "    </tr>\n",
       "    <tr>\n",
       "      <th>3</th>\n",
       "      <td>2022-01-03</td>\n",
       "      <td>Товар 16</td>\n",
       "      <td>562</td>\n",
       "      <td>Подразделение 1</td>\n",
       "      <td>10.00</td>\n",
       "    </tr>\n",
       "    <tr>\n",
       "      <th>4</th>\n",
       "      <td>2022-01-03</td>\n",
       "      <td>Товар 17</td>\n",
       "      <td>621</td>\n",
       "      <td>Подразделение 1</td>\n",
       "      <td>13.00</td>\n",
       "    </tr>\n",
       "  </tbody>\n",
       "</table>\n",
       "</div>"
      ],
      "text/plain": [
       "        Дата     Товар  Выпуск    Подразделение   Брак\n",
       "0 2022-01-03   Товар 1   33900  Подразделение 1 611.00\n",
       "1 2022-01-03   Товар 2    2640  Подразделение 1  32.00\n",
       "2 2022-01-03  Товар 20    2688  Подразделение 1   5.00\n",
       "3 2022-01-03  Товар 16     562  Подразделение 1  10.00\n",
       "4 2022-01-03  Товар 17     621  Подразделение 1  13.00"
      ]
     },
     "metadata": {},
     "output_type": "display_data"
    }
   ],
   "source": [
    "basic_info(table_3)"
   ]
  },
  {
   "cell_type": "markdown",
   "id": "6f9f3028",
   "metadata": {},
   "source": [
    "- Объединение успешно\n",
    "- Заменим отсутствующие значения брака нулями в соответствии с гипотезой, что это дни без брака вовсе:"
   ]
  },
  {
   "cell_type": "code",
   "execution_count": 27,
   "id": "9ce8f8e4",
   "metadata": {},
   "outputs": [],
   "source": [
    "table_3 = table_3.fillna(0)"
   ]
  },
  {
   "cell_type": "code",
   "execution_count": 28,
   "id": "8b5dc573",
   "metadata": {},
   "outputs": [
    {
     "name": "stdout",
     "output_type": "stream",
     "text": [
      "<class 'pandas.core.frame.DataFrame'>\n",
      "Int64Index: 4043 entries, 0 to 4042\n",
      "Data columns (total 5 columns):\n",
      " #   Column         Non-Null Count  Dtype         \n",
      "---  ------         --------------  -----         \n",
      " 0   Дата           4043 non-null   datetime64[ns]\n",
      " 1   Товар          4043 non-null   object        \n",
      " 2   Выпуск         4043 non-null   int64         \n",
      " 3   Подразделение  4043 non-null   object        \n",
      " 4   Брак           4043 non-null   float64       \n",
      "dtypes: datetime64[ns](1), float64(1), int64(1), object(2)\n",
      "memory usage: 189.5+ KB\n",
      "None\n"
     ]
    },
    {
     "data": {
      "text/html": [
       "<div>\n",
       "<style scoped>\n",
       "    .dataframe tbody tr th:only-of-type {\n",
       "        vertical-align: middle;\n",
       "    }\n",
       "\n",
       "    .dataframe tbody tr th {\n",
       "        vertical-align: top;\n",
       "    }\n",
       "\n",
       "    .dataframe thead th {\n",
       "        text-align: right;\n",
       "    }\n",
       "</style>\n",
       "<table border=\"1\" class=\"dataframe\">\n",
       "  <thead>\n",
       "    <tr style=\"text-align: right;\">\n",
       "      <th></th>\n",
       "      <th>Дата</th>\n",
       "      <th>Товар</th>\n",
       "      <th>Выпуск</th>\n",
       "      <th>Подразделение</th>\n",
       "      <th>Брак</th>\n",
       "    </tr>\n",
       "  </thead>\n",
       "  <tbody>\n",
       "    <tr>\n",
       "      <th>0</th>\n",
       "      <td>2022-01-03</td>\n",
       "      <td>Товар 1</td>\n",
       "      <td>33900</td>\n",
       "      <td>Подразделение 1</td>\n",
       "      <td>611.00</td>\n",
       "    </tr>\n",
       "    <tr>\n",
       "      <th>1</th>\n",
       "      <td>2022-01-03</td>\n",
       "      <td>Товар 2</td>\n",
       "      <td>2640</td>\n",
       "      <td>Подразделение 1</td>\n",
       "      <td>32.00</td>\n",
       "    </tr>\n",
       "    <tr>\n",
       "      <th>2</th>\n",
       "      <td>2022-01-03</td>\n",
       "      <td>Товар 20</td>\n",
       "      <td>2688</td>\n",
       "      <td>Подразделение 1</td>\n",
       "      <td>5.00</td>\n",
       "    </tr>\n",
       "    <tr>\n",
       "      <th>3</th>\n",
       "      <td>2022-01-03</td>\n",
       "      <td>Товар 16</td>\n",
       "      <td>562</td>\n",
       "      <td>Подразделение 1</td>\n",
       "      <td>10.00</td>\n",
       "    </tr>\n",
       "    <tr>\n",
       "      <th>4</th>\n",
       "      <td>2022-01-03</td>\n",
       "      <td>Товар 17</td>\n",
       "      <td>621</td>\n",
       "      <td>Подразделение 1</td>\n",
       "      <td>13.00</td>\n",
       "    </tr>\n",
       "  </tbody>\n",
       "</table>\n",
       "</div>"
      ],
      "text/plain": [
       "        Дата     Товар  Выпуск    Подразделение   Брак\n",
       "0 2022-01-03   Товар 1   33900  Подразделение 1 611.00\n",
       "1 2022-01-03   Товар 2    2640  Подразделение 1  32.00\n",
       "2 2022-01-03  Товар 20    2688  Подразделение 1   5.00\n",
       "3 2022-01-03  Товар 16     562  Подразделение 1  10.00\n",
       "4 2022-01-03  Товар 17     621  Подразделение 1  13.00"
      ]
     },
     "metadata": {},
     "output_type": "display_data"
    }
   ],
   "source": [
    "basic_info(table_3)"
   ]
  },
  {
   "cell_type": "markdown",
   "id": "883081d3",
   "metadata": {},
   "source": [
    "Вернем целочисленный тип полю `Брак`:"
   ]
  },
  {
   "cell_type": "code",
   "execution_count": 29,
   "id": "3f013af7",
   "metadata": {},
   "outputs": [],
   "source": [
    "table_3['Брак'] = table_3['Брак'].astype('int')"
   ]
  },
  {
   "cell_type": "code",
   "execution_count": 30,
   "id": "0080f3c2",
   "metadata": {},
   "outputs": [
    {
     "name": "stdout",
     "output_type": "stream",
     "text": [
      "<class 'pandas.core.frame.DataFrame'>\n",
      "Int64Index: 4043 entries, 0 to 4042\n",
      "Data columns (total 5 columns):\n",
      " #   Column         Non-Null Count  Dtype         \n",
      "---  ------         --------------  -----         \n",
      " 0   Дата           4043 non-null   datetime64[ns]\n",
      " 1   Товар          4043 non-null   object        \n",
      " 2   Выпуск         4043 non-null   int64         \n",
      " 3   Подразделение  4043 non-null   object        \n",
      " 4   Брак           4043 non-null   int64         \n",
      "dtypes: datetime64[ns](1), int64(2), object(2)\n",
      "memory usage: 189.5+ KB\n",
      "None\n"
     ]
    },
    {
     "data": {
      "text/html": [
       "<div>\n",
       "<style scoped>\n",
       "    .dataframe tbody tr th:only-of-type {\n",
       "        vertical-align: middle;\n",
       "    }\n",
       "\n",
       "    .dataframe tbody tr th {\n",
       "        vertical-align: top;\n",
       "    }\n",
       "\n",
       "    .dataframe thead th {\n",
       "        text-align: right;\n",
       "    }\n",
       "</style>\n",
       "<table border=\"1\" class=\"dataframe\">\n",
       "  <thead>\n",
       "    <tr style=\"text-align: right;\">\n",
       "      <th></th>\n",
       "      <th>Дата</th>\n",
       "      <th>Товар</th>\n",
       "      <th>Выпуск</th>\n",
       "      <th>Подразделение</th>\n",
       "      <th>Брак</th>\n",
       "    </tr>\n",
       "  </thead>\n",
       "  <tbody>\n",
       "    <tr>\n",
       "      <th>0</th>\n",
       "      <td>2022-01-03</td>\n",
       "      <td>Товар 1</td>\n",
       "      <td>33900</td>\n",
       "      <td>Подразделение 1</td>\n",
       "      <td>611</td>\n",
       "    </tr>\n",
       "    <tr>\n",
       "      <th>1</th>\n",
       "      <td>2022-01-03</td>\n",
       "      <td>Товар 2</td>\n",
       "      <td>2640</td>\n",
       "      <td>Подразделение 1</td>\n",
       "      <td>32</td>\n",
       "    </tr>\n",
       "    <tr>\n",
       "      <th>2</th>\n",
       "      <td>2022-01-03</td>\n",
       "      <td>Товар 20</td>\n",
       "      <td>2688</td>\n",
       "      <td>Подразделение 1</td>\n",
       "      <td>5</td>\n",
       "    </tr>\n",
       "    <tr>\n",
       "      <th>3</th>\n",
       "      <td>2022-01-03</td>\n",
       "      <td>Товар 16</td>\n",
       "      <td>562</td>\n",
       "      <td>Подразделение 1</td>\n",
       "      <td>10</td>\n",
       "    </tr>\n",
       "    <tr>\n",
       "      <th>4</th>\n",
       "      <td>2022-01-03</td>\n",
       "      <td>Товар 17</td>\n",
       "      <td>621</td>\n",
       "      <td>Подразделение 1</td>\n",
       "      <td>13</td>\n",
       "    </tr>\n",
       "  </tbody>\n",
       "</table>\n",
       "</div>"
      ],
      "text/plain": [
       "        Дата     Товар  Выпуск    Подразделение  Брак\n",
       "0 2022-01-03   Товар 1   33900  Подразделение 1   611\n",
       "1 2022-01-03   Товар 2    2640  Подразделение 1    32\n",
       "2 2022-01-03  Товар 20    2688  Подразделение 1     5\n",
       "3 2022-01-03  Товар 16     562  Подразделение 1    10\n",
       "4 2022-01-03  Товар 17     621  Подразделение 1    13"
      ]
     },
     "metadata": {},
     "output_type": "display_data"
    }
   ],
   "source": [
    "basic_info(table_3)"
   ]
  },
  {
   "cell_type": "markdown",
   "id": "a890eebf",
   "metadata": {},
   "source": [
    "**Составим сводную таблицу по товарам/неделям/подразделениям**"
   ]
  },
  {
   "cell_type": "markdown",
   "id": "c08f53a0",
   "metadata": {},
   "source": [
    "Добавим столбец с номером недели:"
   ]
  },
  {
   "cell_type": "code",
   "execution_count": 31,
   "id": "5d072b24",
   "metadata": {},
   "outputs": [
    {
     "data": {
      "text/html": [
       "<div>\n",
       "<style scoped>\n",
       "    .dataframe tbody tr th:only-of-type {\n",
       "        vertical-align: middle;\n",
       "    }\n",
       "\n",
       "    .dataframe tbody tr th {\n",
       "        vertical-align: top;\n",
       "    }\n",
       "\n",
       "    .dataframe thead th {\n",
       "        text-align: right;\n",
       "    }\n",
       "</style>\n",
       "<table border=\"1\" class=\"dataframe\">\n",
       "  <thead>\n",
       "    <tr style=\"text-align: right;\">\n",
       "      <th></th>\n",
       "      <th>Дата</th>\n",
       "      <th>Товар</th>\n",
       "      <th>Выпуск</th>\n",
       "      <th>Подразделение</th>\n",
       "      <th>Брак</th>\n",
       "      <th>Неделя</th>\n",
       "    </tr>\n",
       "  </thead>\n",
       "  <tbody>\n",
       "    <tr>\n",
       "      <th>0</th>\n",
       "      <td>2022-01-03</td>\n",
       "      <td>Товар 1</td>\n",
       "      <td>33900</td>\n",
       "      <td>Подразделение 1</td>\n",
       "      <td>611</td>\n",
       "      <td>1</td>\n",
       "    </tr>\n",
       "    <tr>\n",
       "      <th>1</th>\n",
       "      <td>2022-01-03</td>\n",
       "      <td>Товар 2</td>\n",
       "      <td>2640</td>\n",
       "      <td>Подразделение 1</td>\n",
       "      <td>32</td>\n",
       "      <td>1</td>\n",
       "    </tr>\n",
       "    <tr>\n",
       "      <th>2</th>\n",
       "      <td>2022-01-03</td>\n",
       "      <td>Товар 20</td>\n",
       "      <td>2688</td>\n",
       "      <td>Подразделение 1</td>\n",
       "      <td>5</td>\n",
       "      <td>1</td>\n",
       "    </tr>\n",
       "    <tr>\n",
       "      <th>3</th>\n",
       "      <td>2022-01-03</td>\n",
       "      <td>Товар 16</td>\n",
       "      <td>562</td>\n",
       "      <td>Подразделение 1</td>\n",
       "      <td>10</td>\n",
       "      <td>1</td>\n",
       "    </tr>\n",
       "    <tr>\n",
       "      <th>4</th>\n",
       "      <td>2022-01-03</td>\n",
       "      <td>Товар 17</td>\n",
       "      <td>621</td>\n",
       "      <td>Подразделение 1</td>\n",
       "      <td>13</td>\n",
       "      <td>1</td>\n",
       "    </tr>\n",
       "  </tbody>\n",
       "</table>\n",
       "</div>"
      ],
      "text/plain": [
       "        Дата     Товар  Выпуск    Подразделение  Брак  Неделя\n",
       "0 2022-01-03   Товар 1   33900  Подразделение 1   611       1\n",
       "1 2022-01-03   Товар 2    2640  Подразделение 1    32       1\n",
       "2 2022-01-03  Товар 20    2688  Подразделение 1     5       1\n",
       "3 2022-01-03  Товар 16     562  Подразделение 1    10       1\n",
       "4 2022-01-03  Товар 17     621  Подразделение 1    13       1"
      ]
     },
     "execution_count": 31,
     "metadata": {},
     "output_type": "execute_result"
    }
   ],
   "source": [
    "table_3['Неделя'] = table_3['Дата'].dt.isocalendar().week\n",
    "table_3.head()"
   ]
  },
  {
   "cell_type": "code",
   "execution_count": 32,
   "id": "cf0fb49b",
   "metadata": {},
   "outputs": [
    {
     "data": {
      "text/plain": [
       "<IntegerArray>\n",
       "[ 1,  2,  3,  4,  5,  6,  7,  8,  9, 10, 11, 12, 13, 14, 15, 16, 17, 18, 19,\n",
       " 20, 21, 22, 23, 24, 25, 26, 27, 28, 29, 30, 31, 32, 33, 34, 35, 36, 37, 38,\n",
       " 39, 52]\n",
       "Length: 40, dtype: UInt32"
      ]
     },
     "execution_count": 32,
     "metadata": {},
     "output_type": "execute_result"
    }
   ],
   "source": [
    "table_3['Неделя'].sort_values().unique()"
   ]
  },
  {
   "cell_type": "markdown",
   "id": "e94b6855",
   "metadata": {},
   "source": [
    "Что за запись с 52-ой недели?"
   ]
  },
  {
   "cell_type": "code",
   "execution_count": 33,
   "id": "a3186f3f",
   "metadata": {},
   "outputs": [
    {
     "data": {
      "text/html": [
       "<div>\n",
       "<style scoped>\n",
       "    .dataframe tbody tr th:only-of-type {\n",
       "        vertical-align: middle;\n",
       "    }\n",
       "\n",
       "    .dataframe tbody tr th {\n",
       "        vertical-align: top;\n",
       "    }\n",
       "\n",
       "    .dataframe thead th {\n",
       "        text-align: right;\n",
       "    }\n",
       "</style>\n",
       "<table border=\"1\" class=\"dataframe\">\n",
       "  <thead>\n",
       "    <tr style=\"text-align: right;\">\n",
       "      <th></th>\n",
       "      <th>Дата</th>\n",
       "      <th>Товар</th>\n",
       "      <th>Выпуск</th>\n",
       "      <th>Подразделение</th>\n",
       "      <th>Брак</th>\n",
       "      <th>Неделя</th>\n",
       "    </tr>\n",
       "  </thead>\n",
       "  <tbody>\n",
       "    <tr>\n",
       "      <th>2451</th>\n",
       "      <td>2022-01-01</td>\n",
       "      <td>Товар 6</td>\n",
       "      <td>211</td>\n",
       "      <td>Подразделение 1</td>\n",
       "      <td>0</td>\n",
       "      <td>52</td>\n",
       "    </tr>\n",
       "  </tbody>\n",
       "</table>\n",
       "</div>"
      ],
      "text/plain": [
       "           Дата    Товар  Выпуск    Подразделение  Брак  Неделя\n",
       "2451 2022-01-01  Товар 6     211  Подразделение 1     0      52"
      ]
     },
     "execution_count": 33,
     "metadata": {},
     "output_type": "execute_result"
    }
   ],
   "source": [
    "table_3.query('Неделя == 52')"
   ]
  },
  {
   "cell_type": "markdown",
   "id": "9db4588d",
   "metadata": {},
   "source": [
    "Заменим вручную на первую неделю года:"
   ]
  },
  {
   "cell_type": "code",
   "execution_count": 34,
   "id": "92383290",
   "metadata": {},
   "outputs": [
    {
     "data": {
      "text/plain": [
       "<IntegerArray>\n",
       "[ 1,  2,  3,  4,  5,  6,  7,  8,  9, 10, 11, 12, 13, 14, 15, 16, 17, 18, 19,\n",
       " 20, 21, 22, 23, 24, 25, 26, 27, 28, 29, 30, 31, 32, 33, 34, 35, 36, 37, 38,\n",
       " 39]\n",
       "Length: 39, dtype: UInt32"
      ]
     },
     "execution_count": 34,
     "metadata": {},
     "output_type": "execute_result"
    }
   ],
   "source": [
    "table_3.loc[2451, 'Неделя'] = 1\n",
    "table_3['Неделя'].sort_values().unique()"
   ]
  },
  {
   "cell_type": "markdown",
   "id": "3641f194",
   "metadata": {},
   "source": [
    "Сгруппируем брак и выпуск по неделям/товарам/подразделениям:"
   ]
  },
  {
   "cell_type": "code",
   "execution_count": 35,
   "id": "8e939bae",
   "metadata": {},
   "outputs": [
    {
     "data": {
      "text/html": [
       "<div>\n",
       "<style scoped>\n",
       "    .dataframe tbody tr th:only-of-type {\n",
       "        vertical-align: middle;\n",
       "    }\n",
       "\n",
       "    .dataframe tbody tr th {\n",
       "        vertical-align: top;\n",
       "    }\n",
       "\n",
       "    .dataframe thead th {\n",
       "        text-align: right;\n",
       "    }\n",
       "</style>\n",
       "<table border=\"1\" class=\"dataframe\">\n",
       "  <thead>\n",
       "    <tr style=\"text-align: right;\">\n",
       "      <th></th>\n",
       "      <th>Неделя</th>\n",
       "      <th>Товар</th>\n",
       "      <th>Подразделение</th>\n",
       "      <th>Выпуск</th>\n",
       "      <th>Брак</th>\n",
       "    </tr>\n",
       "  </thead>\n",
       "  <tbody>\n",
       "    <tr>\n",
       "      <th>0</th>\n",
       "      <td>1</td>\n",
       "      <td>Товар 1</td>\n",
       "      <td>Подразделение 1</td>\n",
       "      <td>97000</td>\n",
       "      <td>4138</td>\n",
       "    </tr>\n",
       "    <tr>\n",
       "      <th>1</th>\n",
       "      <td>1</td>\n",
       "      <td>Товар 10</td>\n",
       "      <td>Подразделение 1</td>\n",
       "      <td>3890</td>\n",
       "      <td>23</td>\n",
       "    </tr>\n",
       "    <tr>\n",
       "      <th>2</th>\n",
       "      <td>1</td>\n",
       "      <td>Товар 11</td>\n",
       "      <td>Подразделение 1</td>\n",
       "      <td>1353</td>\n",
       "      <td>15</td>\n",
       "    </tr>\n",
       "    <tr>\n",
       "      <th>3</th>\n",
       "      <td>1</td>\n",
       "      <td>Товар 12</td>\n",
       "      <td>Подразделение 1</td>\n",
       "      <td>1212</td>\n",
       "      <td>352</td>\n",
       "    </tr>\n",
       "    <tr>\n",
       "      <th>4</th>\n",
       "      <td>1</td>\n",
       "      <td>Товар 13</td>\n",
       "      <td>Подразделение 1</td>\n",
       "      <td>5750</td>\n",
       "      <td>22</td>\n",
       "    </tr>\n",
       "  </tbody>\n",
       "</table>\n",
       "</div>"
      ],
      "text/plain": [
       "   Неделя     Товар    Подразделение  Выпуск  Брак\n",
       "0       1   Товар 1  Подразделение 1   97000  4138\n",
       "1       1  Товар 10  Подразделение 1    3890    23\n",
       "2       1  Товар 11  Подразделение 1    1353    15\n",
       "3       1  Товар 12  Подразделение 1    1212   352\n",
       "4       1  Товар 13  Подразделение 1    5750    22"
      ]
     },
     "execution_count": 35,
     "metadata": {},
     "output_type": "execute_result"
    }
   ],
   "source": [
    "table_3_weekly = (table_3\n",
    "                  .groupby(['Неделя', 'Товар', 'Подразделение'], as_index=False)\n",
    "                  .agg({'Выпуск':'sum', \n",
    "                        'Брак':'sum'}).sort_values(by=['Неделя', 'Товар', 'Подразделение']))\n",
    "table_3_weekly.head()"
   ]
  },
  {
   "cell_type": "markdown",
   "id": "936a28e6",
   "metadata": {},
   "source": [
    "Рассчитаем долю брака для каждой записи:"
   ]
  },
  {
   "cell_type": "code",
   "execution_count": 36,
   "id": "fdab2eda",
   "metadata": {},
   "outputs": [
    {
     "data": {
      "text/html": [
       "<div>\n",
       "<style scoped>\n",
       "    .dataframe tbody tr th:only-of-type {\n",
       "        vertical-align: middle;\n",
       "    }\n",
       "\n",
       "    .dataframe tbody tr th {\n",
       "        vertical-align: top;\n",
       "    }\n",
       "\n",
       "    .dataframe thead th {\n",
       "        text-align: right;\n",
       "    }\n",
       "</style>\n",
       "<table border=\"1\" class=\"dataframe\">\n",
       "  <thead>\n",
       "    <tr style=\"text-align: right;\">\n",
       "      <th></th>\n",
       "      <th>Неделя</th>\n",
       "      <th>Товар</th>\n",
       "      <th>Подразделение</th>\n",
       "      <th>Выпуск</th>\n",
       "      <th>Брак</th>\n",
       "      <th>Доля брака</th>\n",
       "    </tr>\n",
       "  </thead>\n",
       "  <tbody>\n",
       "    <tr>\n",
       "      <th>0</th>\n",
       "      <td>1</td>\n",
       "      <td>Товар 1</td>\n",
       "      <td>Подразделение 1</td>\n",
       "      <td>97000</td>\n",
       "      <td>4138</td>\n",
       "      <td>0.04</td>\n",
       "    </tr>\n",
       "    <tr>\n",
       "      <th>1</th>\n",
       "      <td>1</td>\n",
       "      <td>Товар 10</td>\n",
       "      <td>Подразделение 1</td>\n",
       "      <td>3890</td>\n",
       "      <td>23</td>\n",
       "      <td>0.01</td>\n",
       "    </tr>\n",
       "    <tr>\n",
       "      <th>2</th>\n",
       "      <td>1</td>\n",
       "      <td>Товар 11</td>\n",
       "      <td>Подразделение 1</td>\n",
       "      <td>1353</td>\n",
       "      <td>15</td>\n",
       "      <td>0.01</td>\n",
       "    </tr>\n",
       "    <tr>\n",
       "      <th>3</th>\n",
       "      <td>1</td>\n",
       "      <td>Товар 12</td>\n",
       "      <td>Подразделение 1</td>\n",
       "      <td>1212</td>\n",
       "      <td>352</td>\n",
       "      <td>0.23</td>\n",
       "    </tr>\n",
       "    <tr>\n",
       "      <th>4</th>\n",
       "      <td>1</td>\n",
       "      <td>Товар 13</td>\n",
       "      <td>Подразделение 1</td>\n",
       "      <td>5750</td>\n",
       "      <td>22</td>\n",
       "      <td>0.00</td>\n",
       "    </tr>\n",
       "  </tbody>\n",
       "</table>\n",
       "</div>"
      ],
      "text/plain": [
       "   Неделя     Товар    Подразделение  Выпуск  Брак  Доля брака\n",
       "0       1   Товар 1  Подразделение 1   97000  4138        0.04\n",
       "1       1  Товар 10  Подразделение 1    3890    23        0.01\n",
       "2       1  Товар 11  Подразделение 1    1353    15        0.01\n",
       "3       1  Товар 12  Подразделение 1    1212   352        0.23\n",
       "4       1  Товар 13  Подразделение 1    5750    22        0.00"
      ]
     },
     "execution_count": 36,
     "metadata": {},
     "output_type": "execute_result"
    }
   ],
   "source": [
    "table_3_weekly['Доля брака'] = table_3_weekly['Брак'] / (table_3_weekly['Брак'] + table_3_weekly['Выпуск'])\n",
    "table_3_weekly.head()"
   ]
  },
  {
   "cell_type": "markdown",
   "id": "11504ea8",
   "metadata": {},
   "source": [
    "- Добавим категорию доли брака\n",
    "- **Предлагается расширить категорию** `Средний` относительно ТЗ: **от 1 до 3 %** --> **от 1 до 5 %**, \n",
    "    - Иначе исходя из задания записи с `3 % < доля брака < 5 %` останутся без категории:"
   ]
  },
  {
   "cell_type": "code",
   "execution_count": 37,
   "id": "ac3c614a",
   "metadata": {},
   "outputs": [
    {
     "data": {
      "text/html": [
       "<div>\n",
       "<style scoped>\n",
       "    .dataframe tbody tr th:only-of-type {\n",
       "        vertical-align: middle;\n",
       "    }\n",
       "\n",
       "    .dataframe tbody tr th {\n",
       "        vertical-align: top;\n",
       "    }\n",
       "\n",
       "    .dataframe thead th {\n",
       "        text-align: right;\n",
       "    }\n",
       "</style>\n",
       "<table border=\"1\" class=\"dataframe\">\n",
       "  <thead>\n",
       "    <tr style=\"text-align: right;\">\n",
       "      <th></th>\n",
       "      <th>Неделя</th>\n",
       "      <th>Товар</th>\n",
       "      <th>Подразделение</th>\n",
       "      <th>Выпуск</th>\n",
       "      <th>Брак</th>\n",
       "      <th>Доля брака</th>\n",
       "      <th>Категория доли брака</th>\n",
       "    </tr>\n",
       "  </thead>\n",
       "  <tbody>\n",
       "    <tr>\n",
       "      <th>0</th>\n",
       "      <td>1</td>\n",
       "      <td>Товар 1</td>\n",
       "      <td>Подразделение 1</td>\n",
       "      <td>97000</td>\n",
       "      <td>4138</td>\n",
       "      <td>0.04</td>\n",
       "      <td>Средний</td>\n",
       "    </tr>\n",
       "    <tr>\n",
       "      <th>1</th>\n",
       "      <td>1</td>\n",
       "      <td>Товар 10</td>\n",
       "      <td>Подразделение 1</td>\n",
       "      <td>3890</td>\n",
       "      <td>23</td>\n",
       "      <td>0.01</td>\n",
       "      <td>Низкий</td>\n",
       "    </tr>\n",
       "    <tr>\n",
       "      <th>2</th>\n",
       "      <td>1</td>\n",
       "      <td>Товар 11</td>\n",
       "      <td>Подразделение 1</td>\n",
       "      <td>1353</td>\n",
       "      <td>15</td>\n",
       "      <td>0.01</td>\n",
       "      <td>Низкий</td>\n",
       "    </tr>\n",
       "    <tr>\n",
       "      <th>3</th>\n",
       "      <td>1</td>\n",
       "      <td>Товар 12</td>\n",
       "      <td>Подразделение 1</td>\n",
       "      <td>1212</td>\n",
       "      <td>352</td>\n",
       "      <td>0.23</td>\n",
       "      <td>Высокий</td>\n",
       "    </tr>\n",
       "    <tr>\n",
       "      <th>4</th>\n",
       "      <td>1</td>\n",
       "      <td>Товар 13</td>\n",
       "      <td>Подразделение 1</td>\n",
       "      <td>5750</td>\n",
       "      <td>22</td>\n",
       "      <td>0.00</td>\n",
       "      <td>Низкий</td>\n",
       "    </tr>\n",
       "  </tbody>\n",
       "</table>\n",
       "</div>"
      ],
      "text/plain": [
       "   Неделя     Товар    Подразделение  Выпуск  Брак  Доля брака  \\\n",
       "0       1   Товар 1  Подразделение 1   97000  4138        0.04   \n",
       "1       1  Товар 10  Подразделение 1    3890    23        0.01   \n",
       "2       1  Товар 11  Подразделение 1    1353    15        0.01   \n",
       "3       1  Товар 12  Подразделение 1    1212   352        0.23   \n",
       "4       1  Товар 13  Подразделение 1    5750    22        0.00   \n",
       "\n",
       "  Категория доли брака  \n",
       "0              Средний  \n",
       "1               Низкий  \n",
       "2               Низкий  \n",
       "3              Высокий  \n",
       "4               Низкий  "
      ]
     },
     "execution_count": 37,
     "metadata": {},
     "output_type": "execute_result"
    }
   ],
   "source": [
    "table_3_weekly['Категория доли брака'] = (table_3_weekly['Доля брака']\n",
    "                                          .apply(lambda x: 'Низкий' if x < .03 else \n",
    "                                                 ('Высокий' if x >= .05 else 'Средний')))\n",
    "table_3_weekly.head()"
   ]
  },
  {
   "cell_type": "code",
   "execution_count": 38,
   "id": "1f97748c",
   "metadata": {},
   "outputs": [
    {
     "data": {
      "image/png": "[encoded data removed]",
      "text/plain": [
       "<Figure size 900x400 with 1 Axes>"
      ]
     },
     "metadata": {},
     "output_type": "display_data"
    }
   ],
   "source": [
    "fig, ax = plt.subplots()\n",
    "fig.set(size_inches=(9, 4))\n",
    "\n",
    "sns.histplot(data=table_3_weekly.sort_values(by='Доля брака'), \n",
    "             x='Категория доли брака', \n",
    "             ax=ax, \n",
    "             hue='Категория доли брака', \n",
    "             legend=False);\n",
    "\n",
    "ax.set(ylabel='К-во недель для товара/подразделения \\n', \n",
    "       xlabel='\\n Категория доли брака', \n",
    "       title='Распределение недельных сегментов товаров и подразделений по доле брака \\n');"
   ]
  },
  {
   "cell_type": "markdown",
   "id": "fe734bf4",
   "metadata": {},
   "source": [
    "Очень хорошо, что средний и высокий брак на линии -- скорее исключение из правила :)"
   ]
  },
  {
   "cell_type": "markdown",
   "id": "96a5be29",
   "metadata": {},
   "source": [
    "**Найдем общее количество выпущенных товаров**"
   ]
  },
  {
   "cell_type": "code",
   "execution_count": 39,
   "id": "fff8b2de",
   "metadata": {},
   "outputs": [
    {
     "name": "stdout",
     "output_type": "stream",
     "text": [
      "За период с января по сентябрь 2022 года всего было выпущено 14.2 млн единиц товара\n"
     ]
    }
   ],
   "source": [
    "print(f'За период с января по сентябрь 2022 года всего было выпущено {round(table_3[\"Выпуск\"].sum() / 10**6, 1)} млн единиц товара')"
   ]
  },
  {
   "cell_type": "markdown",
   "id": "aaad4d0f",
   "metadata": {},
   "source": [
    "**Найдем топовое сочетание товар+подразделение по величине выпуска**"
   ]
  },
  {
   "cell_type": "code",
   "execution_count": 40,
   "id": "1b51343d",
   "metadata": {},
   "outputs": [
    {
     "data": {
      "text/html": [
       "<div>\n",
       "<style scoped>\n",
       "    .dataframe tbody tr th:only-of-type {\n",
       "        vertical-align: middle;\n",
       "    }\n",
       "\n",
       "    .dataframe tbody tr th {\n",
       "        vertical-align: top;\n",
       "    }\n",
       "\n",
       "    .dataframe thead th {\n",
       "        text-align: right;\n",
       "    }\n",
       "</style>\n",
       "<table border=\"1\" class=\"dataframe\">\n",
       "  <thead>\n",
       "    <tr style=\"text-align: right;\">\n",
       "      <th></th>\n",
       "      <th>Дата</th>\n",
       "      <th>Товар</th>\n",
       "      <th>Выпуск</th>\n",
       "      <th>Подразделение</th>\n",
       "      <th>Брак</th>\n",
       "      <th>Неделя</th>\n",
       "    </tr>\n",
       "  </thead>\n",
       "  <tbody>\n",
       "    <tr>\n",
       "      <th>0</th>\n",
       "      <td>2022-01-03</td>\n",
       "      <td>Товар 1</td>\n",
       "      <td>33900</td>\n",
       "      <td>Подразделение 1</td>\n",
       "      <td>611</td>\n",
       "      <td>1</td>\n",
       "    </tr>\n",
       "    <tr>\n",
       "      <th>1</th>\n",
       "      <td>2022-01-03</td>\n",
       "      <td>Товар 2</td>\n",
       "      <td>2640</td>\n",
       "      <td>Подразделение 1</td>\n",
       "      <td>32</td>\n",
       "      <td>1</td>\n",
       "    </tr>\n",
       "    <tr>\n",
       "      <th>2</th>\n",
       "      <td>2022-01-03</td>\n",
       "      <td>Товар 20</td>\n",
       "      <td>2688</td>\n",
       "      <td>Подразделение 1</td>\n",
       "      <td>5</td>\n",
       "      <td>1</td>\n",
       "    </tr>\n",
       "    <tr>\n",
       "      <th>3</th>\n",
       "      <td>2022-01-03</td>\n",
       "      <td>Товар 16</td>\n",
       "      <td>562</td>\n",
       "      <td>Подразделение 1</td>\n",
       "      <td>10</td>\n",
       "      <td>1</td>\n",
       "    </tr>\n",
       "    <tr>\n",
       "      <th>4</th>\n",
       "      <td>2022-01-03</td>\n",
       "      <td>Товар 17</td>\n",
       "      <td>621</td>\n",
       "      <td>Подразделение 1</td>\n",
       "      <td>13</td>\n",
       "      <td>1</td>\n",
       "    </tr>\n",
       "  </tbody>\n",
       "</table>\n",
       "</div>"
      ],
      "text/plain": [
       "        Дата     Товар  Выпуск    Подразделение  Брак  Неделя\n",
       "0 2022-01-03   Товар 1   33900  Подразделение 1   611       1\n",
       "1 2022-01-03   Товар 2    2640  Подразделение 1    32       1\n",
       "2 2022-01-03  Товар 20    2688  Подразделение 1     5       1\n",
       "3 2022-01-03  Товар 16     562  Подразделение 1    10       1\n",
       "4 2022-01-03  Товар 17     621  Подразделение 1    13       1"
      ]
     },
     "execution_count": 40,
     "metadata": {},
     "output_type": "execute_result"
    }
   ],
   "source": [
    "table_3.head()"
   ]
  },
  {
   "cell_type": "code",
   "execution_count": 41,
   "id": "662ef8d1",
   "metadata": {},
   "outputs": [
    {
     "data": {
      "text/html": [
       "<div>\n",
       "<style scoped>\n",
       "    .dataframe tbody tr th:only-of-type {\n",
       "        vertical-align: middle;\n",
       "    }\n",
       "\n",
       "    .dataframe tbody tr th {\n",
       "        vertical-align: top;\n",
       "    }\n",
       "\n",
       "    .dataframe thead th {\n",
       "        text-align: right;\n",
       "    }\n",
       "</style>\n",
       "<table border=\"1\" class=\"dataframe\">\n",
       "  <thead>\n",
       "    <tr style=\"text-align: right;\">\n",
       "      <th></th>\n",
       "      <th>Товар</th>\n",
       "      <th>Подразделение</th>\n",
       "      <th>Выпуск</th>\n",
       "    </tr>\n",
       "  </thead>\n",
       "  <tbody>\n",
       "    <tr>\n",
       "      <th>0</th>\n",
       "      <td>Товар 1</td>\n",
       "      <td>Подразделение 1</td>\n",
       "      <td>7855381</td>\n",
       "    </tr>\n",
       "  </tbody>\n",
       "</table>\n",
       "</div>"
      ],
      "text/plain": [
       "     Товар    Подразделение   Выпуск\n",
       "0  Товар 1  Подразделение 1  7855381"
      ]
     },
     "execution_count": 41,
     "metadata": {},
     "output_type": "execute_result"
    }
   ],
   "source": [
    "(table_3\n",
    " .groupby(['Товар', 'Подразделение'], \n",
    "          as_index=False)['Выпуск']\n",
    " .sum()\n",
    " .sort_values(by='Выпуск', \n",
    "              ascending=False)\n",
    " .head(1))"
   ]
  },
  {
   "cell_type": "markdown",
   "id": "c3cf230b",
   "metadata": {},
   "source": [
    "Лидерами являются `Товар 1` и `Подразделение 1`"
   ]
  },
  {
   "cell_type": "markdown",
   "id": "99ef4f7e",
   "metadata": {},
   "source": [
    "**В каком подразделении больше всего брака продукции?**"
   ]
  },
  {
   "cell_type": "code",
   "execution_count": 42,
   "id": "5b47381b",
   "metadata": {},
   "outputs": [
    {
     "data": {
      "text/html": [
       "<style type=\"text/css\">\n",
       "</style>\n",
       "<table id=\"T_c2c29\">\n",
       "  <thead>\n",
       "    <tr>\n",
       "      <th class=\"blank level0\" >&nbsp;</th>\n",
       "      <th id=\"T_c2c29_level0_col0\" class=\"col_heading level0 col0\" >Подразделение</th>\n",
       "      <th id=\"T_c2c29_level0_col1\" class=\"col_heading level0 col1\" >Выпуск</th>\n",
       "      <th id=\"T_c2c29_level0_col2\" class=\"col_heading level0 col2\" >Брак</th>\n",
       "      <th id=\"T_c2c29_level0_col3\" class=\"col_heading level0 col3\" >Доля брака</th>\n",
       "    </tr>\n",
       "  </thead>\n",
       "  <tbody>\n",
       "    <tr>\n",
       "      <th id=\"T_c2c29_level0_row0\" class=\"row_heading level0 row0\" >0</th>\n",
       "      <td id=\"T_c2c29_row0_col0\" class=\"data row0 col0\" >Подразделение 1</td>\n",
       "      <td id=\"T_c2c29_row0_col1\" class=\"data row0 col1\" >13988169</td>\n",
       "      <td id=\"T_c2c29_row0_col2\" class=\"data row0 col2\" >317551</td>\n",
       "      <td id=\"T_c2c29_row0_col3\" class=\"data row0 col3\" >2.2%</td>\n",
       "    </tr>\n",
       "    <tr>\n",
       "      <th id=\"T_c2c29_level0_row1\" class=\"row_heading level0 row1\" >1</th>\n",
       "      <td id=\"T_c2c29_row1_col0\" class=\"data row1 col0\" >Подразделение 2</td>\n",
       "      <td id=\"T_c2c29_row1_col1\" class=\"data row1 col1\" >217993</td>\n",
       "      <td id=\"T_c2c29_row1_col2\" class=\"data row1 col2\" >3395</td>\n",
       "      <td id=\"T_c2c29_row1_col3\" class=\"data row1 col3\" >1.5%</td>\n",
       "    </tr>\n",
       "  </tbody>\n",
       "</table>\n"
      ],
      "text/plain": [
       "<pandas.io.formats.style.Styler at 0x13785c760>"
      ]
     },
     "execution_count": 42,
     "metadata": {},
     "output_type": "execute_result"
    }
   ],
   "source": [
    "dep_rank = (table_3\n",
    "            .groupby('Подразделение', as_index=False)[['Выпуск', 'Брак']]\n",
    "            .sum())\n",
    "\n",
    "dep_rank['Доля брака'] = dep_rank['Брак'] / (dep_rank['Брак'] + dep_rank['Выпуск'])\n",
    "dep_rank = dep_rank.sort_values(by='Доля брака', ascending=False)\n",
    "\n",
    "dep_rank.style.format({'Выпуск': '{:.0f}',\n",
    "                        'Брак': '{:.0f}',\n",
    "                        'Доля брака': '{:.1%}'})"
   ]
  },
  {
   "cell_type": "markdown",
   "id": "a005b892",
   "metadata": {},
   "source": [
    "У `Подразделение 1` самый высокий процент брака"
   ]
  },
  {
   "cell_type": "markdown",
   "id": "89b19c4c",
   "metadata": {},
   "source": [
    "**По какому сочетанию товар+подразделение идет больше всего брака?**"
   ]
  },
  {
   "cell_type": "code",
   "execution_count": 43,
   "id": "7483dbd8",
   "metadata": {},
   "outputs": [
    {
     "data": {
      "text/html": [
       "<style type=\"text/css\">\n",
       "</style>\n",
       "<table id=\"T_5f369\">\n",
       "  <thead>\n",
       "    <tr>\n",
       "      <th class=\"blank level0\" >&nbsp;</th>\n",
       "      <th id=\"T_5f369_level0_col0\" class=\"col_heading level0 col0\" >Товар</th>\n",
       "      <th id=\"T_5f369_level0_col1\" class=\"col_heading level0 col1\" >Подразделение</th>\n",
       "      <th id=\"T_5f369_level0_col2\" class=\"col_heading level0 col2\" >Выпуск</th>\n",
       "      <th id=\"T_5f369_level0_col3\" class=\"col_heading level0 col3\" >Брак</th>\n",
       "      <th id=\"T_5f369_level0_col4\" class=\"col_heading level0 col4\" >Доля брака</th>\n",
       "    </tr>\n",
       "  </thead>\n",
       "  <tbody>\n",
       "    <tr>\n",
       "      <th id=\"T_5f369_level0_row0\" class=\"row_heading level0 row0\" >0</th>\n",
       "      <td id=\"T_5f369_row0_col0\" class=\"data row0 col0\" >Товар 18</td>\n",
       "      <td id=\"T_5f369_row0_col1\" class=\"data row0 col1\" >Подразделение 1</td>\n",
       "      <td id=\"T_5f369_row0_col2\" class=\"data row0 col2\" >40</td>\n",
       "      <td id=\"T_5f369_row0_col3\" class=\"data row0 col3\" >40</td>\n",
       "      <td id=\"T_5f369_row0_col4\" class=\"data row0 col4\" >50.0%</td>\n",
       "    </tr>\n",
       "    <tr>\n",
       "      <th id=\"T_5f369_level0_row1\" class=\"row_heading level0 row1\" >1</th>\n",
       "      <td id=\"T_5f369_row1_col0\" class=\"data row1 col0\" >Товар 15</td>\n",
       "      <td id=\"T_5f369_row1_col1\" class=\"data row1 col1\" >Подразделение 1</td>\n",
       "      <td id=\"T_5f369_row1_col2\" class=\"data row1 col2\" >30</td>\n",
       "      <td id=\"T_5f369_row1_col3\" class=\"data row1 col3\" >30</td>\n",
       "      <td id=\"T_5f369_row1_col4\" class=\"data row1 col4\" >50.0%</td>\n",
       "    </tr>\n",
       "    <tr>\n",
       "      <th id=\"T_5f369_level0_row2\" class=\"row_heading level0 row2\" >2</th>\n",
       "      <td id=\"T_5f369_row2_col0\" class=\"data row2 col0\" >Товар 19</td>\n",
       "      <td id=\"T_5f369_row2_col1\" class=\"data row2 col1\" >Подразделение 2</td>\n",
       "      <td id=\"T_5f369_row2_col2\" class=\"data row2 col2\" >14186</td>\n",
       "      <td id=\"T_5f369_row2_col3\" class=\"data row2 col3\" >729</td>\n",
       "      <td id=\"T_5f369_row2_col4\" class=\"data row2 col4\" >4.9%</td>\n",
       "    </tr>\n",
       "    <tr>\n",
       "      <th id=\"T_5f369_level0_row3\" class=\"row_heading level0 row3\" >3</th>\n",
       "      <td id=\"T_5f369_row3_col0\" class=\"data row3 col0\" >Товар 12</td>\n",
       "      <td id=\"T_5f369_row3_col1\" class=\"data row3 col1\" >Подразделение 1</td>\n",
       "      <td id=\"T_5f369_row3_col2\" class=\"data row3 col2\" >15452</td>\n",
       "      <td id=\"T_5f369_row3_col3\" class=\"data row3 col3\" >666</td>\n",
       "      <td id=\"T_5f369_row3_col4\" class=\"data row3 col4\" >4.1%</td>\n",
       "    </tr>\n",
       "    <tr>\n",
       "      <th id=\"T_5f369_level0_row4\" class=\"row_heading level0 row4\" >4</th>\n",
       "      <td id=\"T_5f369_row4_col0\" class=\"data row4 col0\" >Товар 22</td>\n",
       "      <td id=\"T_5f369_row4_col1\" class=\"data row4 col1\" >Подразделение 1</td>\n",
       "      <td id=\"T_5f369_row4_col2\" class=\"data row4 col2\" >377835</td>\n",
       "      <td id=\"T_5f369_row4_col3\" class=\"data row4 col3\" >11706</td>\n",
       "      <td id=\"T_5f369_row4_col4\" class=\"data row4 col4\" >3.0%</td>\n",
       "    </tr>\n",
       "  </tbody>\n",
       "</table>\n"
      ],
      "text/plain": [
       "<pandas.io.formats.style.Styler at 0x1329b0eb0>"
      ]
     },
     "execution_count": 43,
     "metadata": {},
     "output_type": "execute_result"
    }
   ],
   "source": [
    "dep_rank = (table_3\n",
    "            .groupby(['Товар', 'Подразделение'], as_index=False)[['Выпуск', 'Брак']]\n",
    "            .sum())\n",
    "\n",
    "dep_rank['Доля брака'] = dep_rank['Брак'] / (dep_rank['Брак'] + dep_rank['Выпуск'])\n",
    "dep_rank = dep_rank.sort_values(by='Доля брака', ascending=False).reset_index(drop=True)\n",
    "\n",
    "dep_rank.head(5).style.format({'Выпуск': '{:.0f}',\n",
    "                               'Брак': '{:.0f}',\n",
    "                               'Доля брака': '{:.1%}'})"
   ]
  },
  {
   "cell_type": "markdown",
   "id": "cf7f3619",
   "metadata": {},
   "source": [
    "С большим отрывом самый высокий процент брака у `Товар 18` и `Товар 15` у `Подразделение 1` -- половина производимого отбраковывается"
   ]
  },
  {
   "cell_type": "markdown",
   "id": "c27d0637",
   "metadata": {},
   "source": [
    "**Изучим динамику изменения выпуска и брака**"
   ]
  },
  {
   "cell_type": "code",
   "execution_count": 44,
   "id": "b0f37a97",
   "metadata": {},
   "outputs": [
    {
     "data": {
      "text/html": [
       "<div>\n",
       "<style scoped>\n",
       "    .dataframe tbody tr th:only-of-type {\n",
       "        vertical-align: middle;\n",
       "    }\n",
       "\n",
       "    .dataframe tbody tr th {\n",
       "        vertical-align: top;\n",
       "    }\n",
       "\n",
       "    .dataframe thead th {\n",
       "        text-align: right;\n",
       "    }\n",
       "</style>\n",
       "<table border=\"1\" class=\"dataframe\">\n",
       "  <thead>\n",
       "    <tr style=\"text-align: right;\">\n",
       "      <th></th>\n",
       "      <th>Дата</th>\n",
       "      <th>Выпуск</th>\n",
       "      <th>Брак</th>\n",
       "    </tr>\n",
       "  </thead>\n",
       "  <tbody>\n",
       "    <tr>\n",
       "      <th>0</th>\n",
       "      <td>2022-01-01</td>\n",
       "      <td>211</td>\n",
       "      <td>0</td>\n",
       "    </tr>\n",
       "    <tr>\n",
       "      <th>1</th>\n",
       "      <td>2022-01-03</td>\n",
       "      <td>62601</td>\n",
       "      <td>894</td>\n",
       "    </tr>\n",
       "    <tr>\n",
       "      <th>2</th>\n",
       "      <td>2022-01-04</td>\n",
       "      <td>49487</td>\n",
       "      <td>1136</td>\n",
       "    </tr>\n",
       "    <tr>\n",
       "      <th>3</th>\n",
       "      <td>2022-01-05</td>\n",
       "      <td>31663</td>\n",
       "      <td>756</td>\n",
       "    </tr>\n",
       "    <tr>\n",
       "      <th>4</th>\n",
       "      <td>2022-01-09</td>\n",
       "      <td>42049</td>\n",
       "      <td>2918</td>\n",
       "    </tr>\n",
       "  </tbody>\n",
       "</table>\n",
       "</div>"
      ],
      "text/plain": [
       "        Дата  Выпуск  Брак\n",
       "0 2022-01-01     211     0\n",
       "1 2022-01-03   62601   894\n",
       "2 2022-01-04   49487  1136\n",
       "3 2022-01-05   31663   756\n",
       "4 2022-01-09   42049  2918"
      ]
     },
     "execution_count": 44,
     "metadata": {},
     "output_type": "execute_result"
    }
   ],
   "source": [
    "table_3_daily = (table_3\n",
    "                  .groupby('Дата', as_index=False)\n",
    "                  .agg({'Выпуск':'sum', \n",
    "                        'Брак':'sum'}).sort_values(by='Дата'))\n",
    "table_3_daily.head()"
   ]
  },
  {
   "cell_type": "markdown",
   "id": "bdb9049c",
   "metadata": {},
   "source": [
    "- Рассчитаем суточный темп прироста выпуска и брака\n",
    "- Считать будем по формуле: (выпуск[ j ] - выпуск[ начальный] ) / выпуск[ начальный ]\n",
    "- Начальным периодом примем дату `2022-01-03`, т.к. показатели даты `2022-01-01` значительно отличаются от последующих (возможно неполный день работы)"
   ]
  },
  {
   "cell_type": "code",
   "execution_count": 45,
   "id": "101c54b1",
   "metadata": {},
   "outputs": [
    {
     "name": "stdout",
     "output_type": "stream",
     "text": [
      "Начальное значение выпуска: 62601\n",
      "Начальное значение брака: 894\n"
     ]
    }
   ],
   "source": [
    "success_init = table_3_daily.loc[1, 'Выпуск']\n",
    "fail_init = table_3_daily.loc[1, 'Брак']\n",
    "\n",
    "print(f'Начальное значение выпуска: {success_init}')\n",
    "print(f'Начальное значение брака: {fail_init}')"
   ]
  },
  {
   "cell_type": "code",
   "execution_count": 46,
   "id": "4581458d",
   "metadata": {},
   "outputs": [
    {
     "data": {
      "text/html": [
       "<div>\n",
       "<style scoped>\n",
       "    .dataframe tbody tr th:only-of-type {\n",
       "        vertical-align: middle;\n",
       "    }\n",
       "\n",
       "    .dataframe tbody tr th {\n",
       "        vertical-align: top;\n",
       "    }\n",
       "\n",
       "    .dataframe thead th {\n",
       "        text-align: right;\n",
       "    }\n",
       "</style>\n",
       "<table border=\"1\" class=\"dataframe\">\n",
       "  <thead>\n",
       "    <tr style=\"text-align: right;\">\n",
       "      <th></th>\n",
       "      <th>Дата</th>\n",
       "      <th>Выпуск</th>\n",
       "      <th>Брак</th>\n",
       "      <th>Отн. темп прироста выпуска</th>\n",
       "      <th>Отн. темп прироста брака</th>\n",
       "    </tr>\n",
       "  </thead>\n",
       "  <tbody>\n",
       "    <tr>\n",
       "      <th>1</th>\n",
       "      <td>2022-01-03</td>\n",
       "      <td>62601</td>\n",
       "      <td>894</td>\n",
       "      <td>0.00</td>\n",
       "      <td>0.00</td>\n",
       "    </tr>\n",
       "    <tr>\n",
       "      <th>2</th>\n",
       "      <td>2022-01-04</td>\n",
       "      <td>49487</td>\n",
       "      <td>1136</td>\n",
       "      <td>-0.21</td>\n",
       "      <td>0.27</td>\n",
       "    </tr>\n",
       "    <tr>\n",
       "      <th>3</th>\n",
       "      <td>2022-01-05</td>\n",
       "      <td>31663</td>\n",
       "      <td>756</td>\n",
       "      <td>-0.49</td>\n",
       "      <td>-0.15</td>\n",
       "    </tr>\n",
       "    <tr>\n",
       "      <th>4</th>\n",
       "      <td>2022-01-09</td>\n",
       "      <td>42049</td>\n",
       "      <td>2918</td>\n",
       "      <td>-0.33</td>\n",
       "      <td>2.26</td>\n",
       "    </tr>\n",
       "    <tr>\n",
       "      <th>5</th>\n",
       "      <td>2022-01-10</td>\n",
       "      <td>38485</td>\n",
       "      <td>894</td>\n",
       "      <td>-0.39</td>\n",
       "      <td>0.00</td>\n",
       "    </tr>\n",
       "  </tbody>\n",
       "</table>\n",
       "</div>"
      ],
      "text/plain": [
       "        Дата  Выпуск  Брак  Отн. темп прироста выпуска  \\\n",
       "1 2022-01-03   62601   894                        0.00   \n",
       "2 2022-01-04   49487  1136                       -0.21   \n",
       "3 2022-01-05   31663   756                       -0.49   \n",
       "4 2022-01-09   42049  2918                       -0.33   \n",
       "5 2022-01-10   38485   894                       -0.39   \n",
       "\n",
       "   Отн. темп прироста брака  \n",
       "1                      0.00  \n",
       "2                      0.27  \n",
       "3                     -0.15  \n",
       "4                      2.26  \n",
       "5                      0.00  "
      ]
     },
     "execution_count": 46,
     "metadata": {},
     "output_type": "execute_result"
    }
   ],
   "source": [
    "table_3_daily['Отн. темп прироста выпуска'] = table_3_daily['Выпуск'].apply(lambda x: (x - success_init) / success_init)\n",
    "table_3_daily['Отн. темп прироста брака'] = table_3_daily['Брак'].apply(lambda x: (x - fail_init) / fail_init)\n",
    "table_3_daily = table_3_daily.loc[1:, :]\n",
    "table_3_daily.head()"
   ]
  },
  {
   "cell_type": "markdown",
   "id": "e8fefd24",
   "metadata": {},
   "source": [
    "Свернем таблицу помесячно:"
   ]
  },
  {
   "cell_type": "code",
   "execution_count": 47,
   "id": "973ec1ce",
   "metadata": {},
   "outputs": [
    {
     "data": {
      "text/html": [
       "<div>\n",
       "<style scoped>\n",
       "    .dataframe tbody tr th:only-of-type {\n",
       "        vertical-align: middle;\n",
       "    }\n",
       "\n",
       "    .dataframe tbody tr th {\n",
       "        vertical-align: top;\n",
       "    }\n",
       "\n",
       "    .dataframe thead th {\n",
       "        text-align: right;\n",
       "    }\n",
       "</style>\n",
       "<table border=\"1\" class=\"dataframe\">\n",
       "  <thead>\n",
       "    <tr style=\"text-align: right;\">\n",
       "      <th></th>\n",
       "      <th>Месяц</th>\n",
       "      <th>Выпуск</th>\n",
       "      <th>Брак</th>\n",
       "    </tr>\n",
       "  </thead>\n",
       "  <tbody>\n",
       "    <tr>\n",
       "      <th>0</th>\n",
       "      <td>1</td>\n",
       "      <td>988738</td>\n",
       "      <td>23176</td>\n",
       "    </tr>\n",
       "    <tr>\n",
       "      <th>1</th>\n",
       "      <td>2</td>\n",
       "      <td>1173093</td>\n",
       "      <td>18578</td>\n",
       "    </tr>\n",
       "    <tr>\n",
       "      <th>2</th>\n",
       "      <td>3</td>\n",
       "      <td>1415169</td>\n",
       "      <td>27157</td>\n",
       "    </tr>\n",
       "    <tr>\n",
       "      <th>3</th>\n",
       "      <td>4</td>\n",
       "      <td>1411598</td>\n",
       "      <td>26709</td>\n",
       "    </tr>\n",
       "    <tr>\n",
       "      <th>4</th>\n",
       "      <td>5</td>\n",
       "      <td>1786457</td>\n",
       "      <td>36640</td>\n",
       "    </tr>\n",
       "  </tbody>\n",
       "</table>\n",
       "</div>"
      ],
      "text/plain": [
       "   Месяц   Выпуск   Брак\n",
       "0      1   988738  23176\n",
       "1      2  1173093  18578\n",
       "2      3  1415169  27157\n",
       "3      4  1411598  26709\n",
       "4      5  1786457  36640"
      ]
     },
     "execution_count": 47,
     "metadata": {},
     "output_type": "execute_result"
    }
   ],
   "source": [
    "table_3_monthly = table_3_daily.copy()\n",
    "table_3_monthly['Месяц'] = table_3_monthly['Дата'].dt.month\n",
    "table_3_monthly = table_3_monthly.groupby('Месяц', as_index=False)[['Выпуск', 'Брак']].sum()\n",
    "\n",
    "table_3_monthly.head()"
   ]
  },
  {
   "cell_type": "code",
   "execution_count": 48,
   "id": "ea166ff3",
   "metadata": {},
   "outputs": [
    {
     "name": "stdout",
     "output_type": "stream",
     "text": [
      "Начальное значение выпуска: 988738\n",
      "Начальное значение брака: 23176\n"
     ]
    }
   ],
   "source": [
    "success_init = table_3_monthly.loc[0, 'Выпуск']\n",
    "fail_init = table_3_monthly.loc[0, 'Брак']\n",
    "\n",
    "print(f'Начальное значение выпуска: {success_init}')\n",
    "print(f'Начальное значение брака: {fail_init}')"
   ]
  },
  {
   "cell_type": "code",
   "execution_count": 49,
   "id": "2b093a58",
   "metadata": {},
   "outputs": [
    {
     "data": {
      "text/html": [
       "<div>\n",
       "<style scoped>\n",
       "    .dataframe tbody tr th:only-of-type {\n",
       "        vertical-align: middle;\n",
       "    }\n",
       "\n",
       "    .dataframe tbody tr th {\n",
       "        vertical-align: top;\n",
       "    }\n",
       "\n",
       "    .dataframe thead th {\n",
       "        text-align: right;\n",
       "    }\n",
       "</style>\n",
       "<table border=\"1\" class=\"dataframe\">\n",
       "  <thead>\n",
       "    <tr style=\"text-align: right;\">\n",
       "      <th></th>\n",
       "      <th>Месяц</th>\n",
       "      <th>Выпуск</th>\n",
       "      <th>Брак</th>\n",
       "      <th>Отн. темп прироста выпуска</th>\n",
       "      <th>Отн. темп прироста брака</th>\n",
       "    </tr>\n",
       "  </thead>\n",
       "  <tbody>\n",
       "    <tr>\n",
       "      <th>0</th>\n",
       "      <td>1</td>\n",
       "      <td>988738</td>\n",
       "      <td>23176</td>\n",
       "      <td>0.00</td>\n",
       "      <td>0.00</td>\n",
       "    </tr>\n",
       "    <tr>\n",
       "      <th>1</th>\n",
       "      <td>2</td>\n",
       "      <td>1173093</td>\n",
       "      <td>18578</td>\n",
       "      <td>0.19</td>\n",
       "      <td>-0.20</td>\n",
       "    </tr>\n",
       "    <tr>\n",
       "      <th>2</th>\n",
       "      <td>3</td>\n",
       "      <td>1415169</td>\n",
       "      <td>27157</td>\n",
       "      <td>0.43</td>\n",
       "      <td>0.17</td>\n",
       "    </tr>\n",
       "    <tr>\n",
       "      <th>3</th>\n",
       "      <td>4</td>\n",
       "      <td>1411598</td>\n",
       "      <td>26709</td>\n",
       "      <td>0.43</td>\n",
       "      <td>0.15</td>\n",
       "    </tr>\n",
       "    <tr>\n",
       "      <th>4</th>\n",
       "      <td>5</td>\n",
       "      <td>1786457</td>\n",
       "      <td>36640</td>\n",
       "      <td>0.81</td>\n",
       "      <td>0.58</td>\n",
       "    </tr>\n",
       "  </tbody>\n",
       "</table>\n",
       "</div>"
      ],
      "text/plain": [
       "   Месяц   Выпуск   Брак  Отн. темп прироста выпуска  Отн. темп прироста брака\n",
       "0      1   988738  23176                        0.00                      0.00\n",
       "1      2  1173093  18578                        0.19                     -0.20\n",
       "2      3  1415169  27157                        0.43                      0.17\n",
       "3      4  1411598  26709                        0.43                      0.15\n",
       "4      5  1786457  36640                        0.81                      0.58"
      ]
     },
     "execution_count": 49,
     "metadata": {},
     "output_type": "execute_result"
    }
   ],
   "source": [
    "table_3_monthly['Отн. темп прироста выпуска'] = table_3_monthly['Выпуск'].apply(lambda x: (x - success_init) / success_init)\n",
    "table_3_monthly['Отн. темп прироста брака'] = table_3_monthly['Брак'].apply(lambda x: (x - fail_init) / fail_init)\n",
    "\n",
    "table_3_monthly.head()"
   ]
  },
  {
   "cell_type": "code",
   "execution_count": 50,
   "id": "f8b479ca",
   "metadata": {},
   "outputs": [
    {
     "data": {
      "image/png": "[encoded data removed]",
      "text/plain": [
       "<Figure size 1000x400 with 1 Axes>"
      ]
     },
     "metadata": {},
     "output_type": "display_data"
    }
   ],
   "source": [
    "fig, ax = plt.subplots()\n",
    "fig.set(size_inches=(10, 4))\n",
    "\n",
    "sns.lineplot(data=table_3_monthly, x='Месяц', y='Выпуск', ax=ax, label='Выпуск');\n",
    "sns.lineplot(data=table_3_monthly, x='Месяц', y='Брак', ax=ax, label='Брак');\n",
    "\n",
    "ax.set(ylabel='Единицы товара', title='Динамика выпуска и брака всего производства \\n');"
   ]
  },
  {
   "cell_type": "markdown",
   "id": "8c0260c8",
   "metadata": {},
   "source": [
    "Двукратный рост выпуска не обеспечил двукратный рост брака -- можно масштабировать производство и далее"
   ]
  },
  {
   "cell_type": "markdown",
   "id": "07cce6c9",
   "metadata": {},
   "source": [
    "**У какого подразделения наибольшая динамика роста выпуска?**"
   ]
  },
  {
   "cell_type": "markdown",
   "id": "10a59b30",
   "metadata": {},
   "source": [
    "- Условимся, что наибольшая динамика роста определяется на последний интервал периода (по отношению к первому)\n",
    "- Для ответа на вопрос используем помесячную динамику выпуска, чтобы избежать шума посуточной динамики"
   ]
  },
  {
   "cell_type": "code",
   "execution_count": 51,
   "id": "16cd65a3",
   "metadata": {},
   "outputs": [],
   "source": [
    "def make_montly_dep(df, dep):\n",
    "    df = df.query('Подразделение == @dep')\n",
    "    df['Месяц'] = df['Дата'].dt.month\n",
    "    df = df.groupby('Месяц', as_index=False)[['Выпуск', 'Брак']].sum()\n",
    "    return(df)"
   ]
  },
  {
   "cell_type": "code",
   "execution_count": 52,
   "id": "ec82605a",
   "metadata": {},
   "outputs": [
    {
     "data": {
      "text/html": [
       "<div>\n",
       "<style scoped>\n",
       "    .dataframe tbody tr th:only-of-type {\n",
       "        vertical-align: middle;\n",
       "    }\n",
       "\n",
       "    .dataframe tbody tr th {\n",
       "        vertical-align: top;\n",
       "    }\n",
       "\n",
       "    .dataframe thead th {\n",
       "        text-align: right;\n",
       "    }\n",
       "</style>\n",
       "<table border=\"1\" class=\"dataframe\">\n",
       "  <thead>\n",
       "    <tr style=\"text-align: right;\">\n",
       "      <th></th>\n",
       "      <th>Месяц</th>\n",
       "      <th>Выпуск</th>\n",
       "      <th>Брак</th>\n",
       "    </tr>\n",
       "  </thead>\n",
       "  <tbody>\n",
       "    <tr>\n",
       "      <th>0</th>\n",
       "      <td>1</td>\n",
       "      <td>988949</td>\n",
       "      <td>23176</td>\n",
       "    </tr>\n",
       "    <tr>\n",
       "      <th>1</th>\n",
       "      <td>2</td>\n",
       "      <td>1173093</td>\n",
       "      <td>18578</td>\n",
       "    </tr>\n",
       "    <tr>\n",
       "      <th>2</th>\n",
       "      <td>3</td>\n",
       "      <td>1415169</td>\n",
       "      <td>27157</td>\n",
       "    </tr>\n",
       "    <tr>\n",
       "      <th>3</th>\n",
       "      <td>4</td>\n",
       "      <td>1411598</td>\n",
       "      <td>26709</td>\n",
       "    </tr>\n",
       "    <tr>\n",
       "      <th>4</th>\n",
       "      <td>5</td>\n",
       "      <td>1786457</td>\n",
       "      <td>36640</td>\n",
       "    </tr>\n",
       "    <tr>\n",
       "      <th>5</th>\n",
       "      <td>6</td>\n",
       "      <td>1731020</td>\n",
       "      <td>34828</td>\n",
       "    </tr>\n",
       "    <tr>\n",
       "      <th>6</th>\n",
       "      <td>7</td>\n",
       "      <td>1712190</td>\n",
       "      <td>41274</td>\n",
       "    </tr>\n",
       "    <tr>\n",
       "      <th>7</th>\n",
       "      <td>8</td>\n",
       "      <td>1788862</td>\n",
       "      <td>47228</td>\n",
       "    </tr>\n",
       "    <tr>\n",
       "      <th>8</th>\n",
       "      <td>9</td>\n",
       "      <td>1980831</td>\n",
       "      <td>61961</td>\n",
       "    </tr>\n",
       "  </tbody>\n",
       "</table>\n",
       "</div>"
      ],
      "text/plain": [
       "   Месяц   Выпуск   Брак\n",
       "0      1   988949  23176\n",
       "1      2  1173093  18578\n",
       "2      3  1415169  27157\n",
       "3      4  1411598  26709\n",
       "4      5  1786457  36640\n",
       "5      6  1731020  34828\n",
       "6      7  1712190  41274\n",
       "7      8  1788862  47228\n",
       "8      9  1980831  61961"
      ]
     },
     "execution_count": 52,
     "metadata": {},
     "output_type": "execute_result"
    }
   ],
   "source": [
    "dep_1_monthly = table_3.copy()\n",
    "dep_1_monthly = make_montly_dep(dep_1_monthly, \"Подразделение 1\")\n",
    "dep_1_monthly"
   ]
  },
  {
   "cell_type": "code",
   "execution_count": 53,
   "id": "4a614682",
   "metadata": {},
   "outputs": [
    {
     "data": {
      "text/html": [
       "<div>\n",
       "<style scoped>\n",
       "    .dataframe tbody tr th:only-of-type {\n",
       "        vertical-align: middle;\n",
       "    }\n",
       "\n",
       "    .dataframe tbody tr th {\n",
       "        vertical-align: top;\n",
       "    }\n",
       "\n",
       "    .dataframe thead th {\n",
       "        text-align: right;\n",
       "    }\n",
       "</style>\n",
       "<table border=\"1\" class=\"dataframe\">\n",
       "  <thead>\n",
       "    <tr style=\"text-align: right;\">\n",
       "      <th></th>\n",
       "      <th>Месяц</th>\n",
       "      <th>Выпуск</th>\n",
       "      <th>Брак</th>\n",
       "    </tr>\n",
       "  </thead>\n",
       "  <tbody>\n",
       "    <tr>\n",
       "      <th>0</th>\n",
       "      <td>6</td>\n",
       "      <td>3328</td>\n",
       "      <td>0</td>\n",
       "    </tr>\n",
       "    <tr>\n",
       "      <th>1</th>\n",
       "      <td>7</td>\n",
       "      <td>55294</td>\n",
       "      <td>0</td>\n",
       "    </tr>\n",
       "    <tr>\n",
       "      <th>2</th>\n",
       "      <td>8</td>\n",
       "      <td>89751</td>\n",
       "      <td>2081</td>\n",
       "    </tr>\n",
       "    <tr>\n",
       "      <th>3</th>\n",
       "      <td>9</td>\n",
       "      <td>69620</td>\n",
       "      <td>1314</td>\n",
       "    </tr>\n",
       "  </tbody>\n",
       "</table>\n",
       "</div>"
      ],
      "text/plain": [
       "   Месяц  Выпуск  Брак\n",
       "0      6    3328     0\n",
       "1      7   55294     0\n",
       "2      8   89751  2081\n",
       "3      9   69620  1314"
      ]
     },
     "execution_count": 53,
     "metadata": {},
     "output_type": "execute_result"
    }
   ],
   "source": [
    "dep_2_monthly = table_3.copy()\n",
    "dep_2_monthly = make_montly_dep(dep_2_monthly, \"Подразделение 2\")\n",
    "dep_2_monthly"
   ]
  },
  {
   "cell_type": "markdown",
   "id": "d2d93a30",
   "metadata": {},
   "source": [
    "Скорее всего, в июне подразделение отработало не полный месяц, проверим гипотезу:"
   ]
  },
  {
   "cell_type": "code",
   "execution_count": 54,
   "id": "0f9061af",
   "metadata": {},
   "outputs": [
    {
     "data": {
      "text/html": [
       "<div>\n",
       "<style scoped>\n",
       "    .dataframe tbody tr th:only-of-type {\n",
       "        vertical-align: middle;\n",
       "    }\n",
       "\n",
       "    .dataframe tbody tr th {\n",
       "        vertical-align: top;\n",
       "    }\n",
       "\n",
       "    .dataframe thead th {\n",
       "        text-align: right;\n",
       "    }\n",
       "</style>\n",
       "<table border=\"1\" class=\"dataframe\">\n",
       "  <thead>\n",
       "    <tr style=\"text-align: right;\">\n",
       "      <th></th>\n",
       "      <th>Дата</th>\n",
       "      <th>Товар</th>\n",
       "      <th>Выпуск</th>\n",
       "      <th>Подразделение</th>\n",
       "      <th>Брак</th>\n",
       "      <th>Неделя</th>\n",
       "    </tr>\n",
       "  </thead>\n",
       "  <tbody>\n",
       "    <tr>\n",
       "      <th>2596</th>\n",
       "      <td>2022-06-28</td>\n",
       "      <td>Товар 23</td>\n",
       "      <td>988</td>\n",
       "      <td>Подразделение 2</td>\n",
       "      <td>0</td>\n",
       "      <td>26</td>\n",
       "    </tr>\n",
       "    <tr>\n",
       "      <th>2615</th>\n",
       "      <td>2022-06-29</td>\n",
       "      <td>Товар 23</td>\n",
       "      <td>1030</td>\n",
       "      <td>Подразделение 2</td>\n",
       "      <td>0</td>\n",
       "      <td>26</td>\n",
       "    </tr>\n",
       "    <tr>\n",
       "      <th>2634</th>\n",
       "      <td>2022-06-30</td>\n",
       "      <td>Товар 23</td>\n",
       "      <td>1310</td>\n",
       "      <td>Подразделение 2</td>\n",
       "      <td>0</td>\n",
       "      <td>26</td>\n",
       "    </tr>\n",
       "    <tr>\n",
       "      <th>2653</th>\n",
       "      <td>2022-07-01</td>\n",
       "      <td>Товар 23</td>\n",
       "      <td>1178</td>\n",
       "      <td>Подразделение 2</td>\n",
       "      <td>0</td>\n",
       "      <td>26</td>\n",
       "    </tr>\n",
       "    <tr>\n",
       "      <th>2689</th>\n",
       "      <td>2022-07-03</td>\n",
       "      <td>Товар 23</td>\n",
       "      <td>1492</td>\n",
       "      <td>Подразделение 2</td>\n",
       "      <td>0</td>\n",
       "      <td>26</td>\n",
       "    </tr>\n",
       "  </tbody>\n",
       "</table>\n",
       "</div>"
      ],
      "text/plain": [
       "           Дата     Товар  Выпуск    Подразделение  Брак  Неделя\n",
       "2596 2022-06-28  Товар 23     988  Подразделение 2     0      26\n",
       "2615 2022-06-29  Товар 23    1030  Подразделение 2     0      26\n",
       "2634 2022-06-30  Товар 23    1310  Подразделение 2     0      26\n",
       "2653 2022-07-01  Товар 23    1178  Подразделение 2     0      26\n",
       "2689 2022-07-03  Товар 23    1492  Подразделение 2     0      26"
      ]
     },
     "execution_count": 54,
     "metadata": {},
     "output_type": "execute_result"
    }
   ],
   "source": [
    "table_3.query('Подразделение == \"Подразделение 2\"').head()"
   ]
  },
  {
   "cell_type": "markdown",
   "id": "2b6803ce",
   "metadata": {},
   "source": [
    "Гипотеза подтвердилась, начальным интервалом периода для подразделения 2 примем июль, для подразделения 1 -- январь"
   ]
  },
  {
   "cell_type": "code",
   "execution_count": 55,
   "id": "2507521d",
   "metadata": {},
   "outputs": [
    {
     "data": {
      "text/plain": [
       "[988949, 55294]"
      ]
     },
     "execution_count": 55,
     "metadata": {},
     "output_type": "execute_result"
    }
   ],
   "source": [
    "success_init = []\n",
    "success_init.append(dep_1_monthly.loc[0, 'Выпуск'])\n",
    "success_init.append(dep_2_monthly.loc[1, 'Выпуск'])\n",
    "success_init"
   ]
  },
  {
   "cell_type": "markdown",
   "id": "b4033f65",
   "metadata": {},
   "source": [
    "Расчитаем месячные темпы прироста выпуска:"
   ]
  },
  {
   "cell_type": "code",
   "execution_count": 56,
   "id": "904a9a41",
   "metadata": {},
   "outputs": [],
   "source": [
    "counter = 0\n",
    "for i in [dep_1_monthly, dep_2_monthly]:\n",
    "    i['Отн. темп прироста выпуска'] = i['Выпуск'].apply(lambda x: (x - success_init[counter]) / success_init[counter])\n",
    "    counter += 1"
   ]
  },
  {
   "cell_type": "code",
   "execution_count": 57,
   "id": "80a4316e",
   "metadata": {},
   "outputs": [
    {
     "data": {
      "text/html": [
       "<div>\n",
       "<style scoped>\n",
       "    .dataframe tbody tr th:only-of-type {\n",
       "        vertical-align: middle;\n",
       "    }\n",
       "\n",
       "    .dataframe tbody tr th {\n",
       "        vertical-align: top;\n",
       "    }\n",
       "\n",
       "    .dataframe thead th {\n",
       "        text-align: right;\n",
       "    }\n",
       "</style>\n",
       "<table border=\"1\" class=\"dataframe\">\n",
       "  <thead>\n",
       "    <tr style=\"text-align: right;\">\n",
       "      <th></th>\n",
       "      <th>Месяц</th>\n",
       "      <th>Выпуск</th>\n",
       "      <th>Брак</th>\n",
       "      <th>Отн. темп прироста выпуска</th>\n",
       "    </tr>\n",
       "  </thead>\n",
       "  <tbody>\n",
       "    <tr>\n",
       "      <th>0</th>\n",
       "      <td>1</td>\n",
       "      <td>988949</td>\n",
       "      <td>23176</td>\n",
       "      <td>0.00</td>\n",
       "    </tr>\n",
       "    <tr>\n",
       "      <th>1</th>\n",
       "      <td>2</td>\n",
       "      <td>1173093</td>\n",
       "      <td>18578</td>\n",
       "      <td>0.19</td>\n",
       "    </tr>\n",
       "    <tr>\n",
       "      <th>2</th>\n",
       "      <td>3</td>\n",
       "      <td>1415169</td>\n",
       "      <td>27157</td>\n",
       "      <td>0.43</td>\n",
       "    </tr>\n",
       "    <tr>\n",
       "      <th>3</th>\n",
       "      <td>4</td>\n",
       "      <td>1411598</td>\n",
       "      <td>26709</td>\n",
       "      <td>0.43</td>\n",
       "    </tr>\n",
       "    <tr>\n",
       "      <th>4</th>\n",
       "      <td>5</td>\n",
       "      <td>1786457</td>\n",
       "      <td>36640</td>\n",
       "      <td>0.81</td>\n",
       "    </tr>\n",
       "    <tr>\n",
       "      <th>5</th>\n",
       "      <td>6</td>\n",
       "      <td>1731020</td>\n",
       "      <td>34828</td>\n",
       "      <td>0.75</td>\n",
       "    </tr>\n",
       "    <tr>\n",
       "      <th>6</th>\n",
       "      <td>7</td>\n",
       "      <td>1712190</td>\n",
       "      <td>41274</td>\n",
       "      <td>0.73</td>\n",
       "    </tr>\n",
       "    <tr>\n",
       "      <th>7</th>\n",
       "      <td>8</td>\n",
       "      <td>1788862</td>\n",
       "      <td>47228</td>\n",
       "      <td>0.81</td>\n",
       "    </tr>\n",
       "    <tr>\n",
       "      <th>8</th>\n",
       "      <td>9</td>\n",
       "      <td>1980831</td>\n",
       "      <td>61961</td>\n",
       "      <td>1.00</td>\n",
       "    </tr>\n",
       "  </tbody>\n",
       "</table>\n",
       "</div>"
      ],
      "text/plain": [
       "   Месяц   Выпуск   Брак  Отн. темп прироста выпуска\n",
       "0      1   988949  23176                        0.00\n",
       "1      2  1173093  18578                        0.19\n",
       "2      3  1415169  27157                        0.43\n",
       "3      4  1411598  26709                        0.43\n",
       "4      5  1786457  36640                        0.81\n",
       "5      6  1731020  34828                        0.75\n",
       "6      7  1712190  41274                        0.73\n",
       "7      8  1788862  47228                        0.81\n",
       "8      9  1980831  61961                        1.00"
      ]
     },
     "execution_count": 57,
     "metadata": {},
     "output_type": "execute_result"
    }
   ],
   "source": [
    "dep_1_monthly"
   ]
  },
  {
   "cell_type": "code",
   "execution_count": 58,
   "id": "a0327f0c",
   "metadata": {},
   "outputs": [
    {
     "data": {
      "text/html": [
       "<div>\n",
       "<style scoped>\n",
       "    .dataframe tbody tr th:only-of-type {\n",
       "        vertical-align: middle;\n",
       "    }\n",
       "\n",
       "    .dataframe tbody tr th {\n",
       "        vertical-align: top;\n",
       "    }\n",
       "\n",
       "    .dataframe thead th {\n",
       "        text-align: right;\n",
       "    }\n",
       "</style>\n",
       "<table border=\"1\" class=\"dataframe\">\n",
       "  <thead>\n",
       "    <tr style=\"text-align: right;\">\n",
       "      <th></th>\n",
       "      <th>Месяц</th>\n",
       "      <th>Выпуск</th>\n",
       "      <th>Брак</th>\n",
       "      <th>Отн. темп прироста выпуска</th>\n",
       "    </tr>\n",
       "  </thead>\n",
       "  <tbody>\n",
       "    <tr>\n",
       "      <th>1</th>\n",
       "      <td>7</td>\n",
       "      <td>55294</td>\n",
       "      <td>0</td>\n",
       "      <td>0.00</td>\n",
       "    </tr>\n",
       "    <tr>\n",
       "      <th>2</th>\n",
       "      <td>8</td>\n",
       "      <td>89751</td>\n",
       "      <td>2081</td>\n",
       "      <td>0.62</td>\n",
       "    </tr>\n",
       "    <tr>\n",
       "      <th>3</th>\n",
       "      <td>9</td>\n",
       "      <td>69620</td>\n",
       "      <td>1314</td>\n",
       "      <td>0.26</td>\n",
       "    </tr>\n",
       "  </tbody>\n",
       "</table>\n",
       "</div>"
      ],
      "text/plain": [
       "   Месяц  Выпуск  Брак  Отн. темп прироста выпуска\n",
       "1      7   55294     0                        0.00\n",
       "2      8   89751  2081                        0.62\n",
       "3      9   69620  1314                        0.26"
      ]
     },
     "execution_count": 58,
     "metadata": {},
     "output_type": "execute_result"
    }
   ],
   "source": [
    "dep_2_monthly = dep_2_monthly.loc[1:, :]\n",
    "dep_2_monthly"
   ]
  },
  {
   "cell_type": "markdown",
   "id": "c48c5ee7",
   "metadata": {},
   "source": [
    "- **Подразделение 1** обладает наибольшей динамикой роста выпуска товаров: темп прироста выпуска на последний месяц периода составил **1.00**, т.е. рост в два раза\n",
    "- У **подразделения 2** этот же показатель составил **0.26**"
   ]
  },
  {
   "cell_type": "markdown",
   "id": "263dbe2a",
   "metadata": {},
   "source": [
    "**У какого подразделения наибольшая динамика уменьшения количества брака?**"
   ]
  },
  {
   "cell_type": "markdown",
   "id": "955e2cdd",
   "metadata": {},
   "source": [
    "- Воспользуемся таблицами из предыдущего задания, но рассчитаем дополнительно месячные темпы прироста брака\n",
    "- У подразделения 2 первый полноценный месяц работы прошел без брака, на следующий месяц брак появился, еще через месяц брак также присутствует\n",
    "    - У подразделения 1 брак есть во все месяцы\n",
    "    - Целый месяц без брака звучит скорее как счастливое исключение -- возможно брак не фиксировался в начале работы подразделения\n",
    "    - Примем за начальный интервал второй полноценный месяц работы (август)"
   ]
  },
  {
   "cell_type": "code",
   "execution_count": 59,
   "id": "6325e37e",
   "metadata": {},
   "outputs": [
    {
     "data": {
      "text/plain": [
       "[23176, 2081]"
      ]
     },
     "execution_count": 59,
     "metadata": {},
     "output_type": "execute_result"
    }
   ],
   "source": [
    "fail_init = []\n",
    "fail_init.append(dep_1_monthly.loc[0, 'Брак'])\n",
    "fail_init.append(dep_2_monthly.loc[2, 'Брак'])\n",
    "fail_init"
   ]
  },
  {
   "cell_type": "markdown",
   "id": "27258430",
   "metadata": {},
   "source": [
    "Применим цикл из прошлого задания:"
   ]
  },
  {
   "cell_type": "code",
   "execution_count": 60,
   "id": "ec930852",
   "metadata": {},
   "outputs": [],
   "source": [
    "counter = 0\n",
    "for i in [dep_1_monthly, dep_2_monthly]:\n",
    "    i['Отн. темп прироста брака'] = i['Брак'].apply(lambda x: (x - fail_init[counter]) / fail_init[counter])\n",
    "    counter += 1"
   ]
  },
  {
   "cell_type": "code",
   "execution_count": 61,
   "id": "664ea0c1",
   "metadata": {},
   "outputs": [
    {
     "data": {
      "text/html": [
       "<div>\n",
       "<style scoped>\n",
       "    .dataframe tbody tr th:only-of-type {\n",
       "        vertical-align: middle;\n",
       "    }\n",
       "\n",
       "    .dataframe tbody tr th {\n",
       "        vertical-align: top;\n",
       "    }\n",
       "\n",
       "    .dataframe thead th {\n",
       "        text-align: right;\n",
       "    }\n",
       "</style>\n",
       "<table border=\"1\" class=\"dataframe\">\n",
       "  <thead>\n",
       "    <tr style=\"text-align: right;\">\n",
       "      <th></th>\n",
       "      <th>Месяц</th>\n",
       "      <th>Выпуск</th>\n",
       "      <th>Брак</th>\n",
       "      <th>Отн. темп прироста выпуска</th>\n",
       "      <th>Отн. темп прироста брака</th>\n",
       "    </tr>\n",
       "  </thead>\n",
       "  <tbody>\n",
       "    <tr>\n",
       "      <th>0</th>\n",
       "      <td>1</td>\n",
       "      <td>988949</td>\n",
       "      <td>23176</td>\n",
       "      <td>0.00</td>\n",
       "      <td>0.00</td>\n",
       "    </tr>\n",
       "    <tr>\n",
       "      <th>1</th>\n",
       "      <td>2</td>\n",
       "      <td>1173093</td>\n",
       "      <td>18578</td>\n",
       "      <td>0.19</td>\n",
       "      <td>-0.20</td>\n",
       "    </tr>\n",
       "    <tr>\n",
       "      <th>2</th>\n",
       "      <td>3</td>\n",
       "      <td>1415169</td>\n",
       "      <td>27157</td>\n",
       "      <td>0.43</td>\n",
       "      <td>0.17</td>\n",
       "    </tr>\n",
       "    <tr>\n",
       "      <th>3</th>\n",
       "      <td>4</td>\n",
       "      <td>1411598</td>\n",
       "      <td>26709</td>\n",
       "      <td>0.43</td>\n",
       "      <td>0.15</td>\n",
       "    </tr>\n",
       "    <tr>\n",
       "      <th>4</th>\n",
       "      <td>5</td>\n",
       "      <td>1786457</td>\n",
       "      <td>36640</td>\n",
       "      <td>0.81</td>\n",
       "      <td>0.58</td>\n",
       "    </tr>\n",
       "    <tr>\n",
       "      <th>5</th>\n",
       "      <td>6</td>\n",
       "      <td>1731020</td>\n",
       "      <td>34828</td>\n",
       "      <td>0.75</td>\n",
       "      <td>0.50</td>\n",
       "    </tr>\n",
       "    <tr>\n",
       "      <th>6</th>\n",
       "      <td>7</td>\n",
       "      <td>1712190</td>\n",
       "      <td>41274</td>\n",
       "      <td>0.73</td>\n",
       "      <td>0.78</td>\n",
       "    </tr>\n",
       "    <tr>\n",
       "      <th>7</th>\n",
       "      <td>8</td>\n",
       "      <td>1788862</td>\n",
       "      <td>47228</td>\n",
       "      <td>0.81</td>\n",
       "      <td>1.04</td>\n",
       "    </tr>\n",
       "    <tr>\n",
       "      <th>8</th>\n",
       "      <td>9</td>\n",
       "      <td>1980831</td>\n",
       "      <td>61961</td>\n",
       "      <td>1.00</td>\n",
       "      <td>1.67</td>\n",
       "    </tr>\n",
       "  </tbody>\n",
       "</table>\n",
       "</div>"
      ],
      "text/plain": [
       "   Месяц   Выпуск   Брак  Отн. темп прироста выпуска  Отн. темп прироста брака\n",
       "0      1   988949  23176                        0.00                      0.00\n",
       "1      2  1173093  18578                        0.19                     -0.20\n",
       "2      3  1415169  27157                        0.43                      0.17\n",
       "3      4  1411598  26709                        0.43                      0.15\n",
       "4      5  1786457  36640                        0.81                      0.58\n",
       "5      6  1731020  34828                        0.75                      0.50\n",
       "6      7  1712190  41274                        0.73                      0.78\n",
       "7      8  1788862  47228                        0.81                      1.04\n",
       "8      9  1980831  61961                        1.00                      1.67"
      ]
     },
     "execution_count": 61,
     "metadata": {},
     "output_type": "execute_result"
    }
   ],
   "source": [
    "dep_1_monthly"
   ]
  },
  {
   "cell_type": "code",
   "execution_count": 62,
   "id": "ed12373f",
   "metadata": {},
   "outputs": [
    {
     "data": {
      "text/html": [
       "<div>\n",
       "<style scoped>\n",
       "    .dataframe tbody tr th:only-of-type {\n",
       "        vertical-align: middle;\n",
       "    }\n",
       "\n",
       "    .dataframe tbody tr th {\n",
       "        vertical-align: top;\n",
       "    }\n",
       "\n",
       "    .dataframe thead th {\n",
       "        text-align: right;\n",
       "    }\n",
       "</style>\n",
       "<table border=\"1\" class=\"dataframe\">\n",
       "  <thead>\n",
       "    <tr style=\"text-align: right;\">\n",
       "      <th></th>\n",
       "      <th>Месяц</th>\n",
       "      <th>Выпуск</th>\n",
       "      <th>Брак</th>\n",
       "      <th>Отн. темп прироста выпуска</th>\n",
       "      <th>Отн. темп прироста брака</th>\n",
       "    </tr>\n",
       "  </thead>\n",
       "  <tbody>\n",
       "    <tr>\n",
       "      <th>2</th>\n",
       "      <td>8</td>\n",
       "      <td>89751</td>\n",
       "      <td>2081</td>\n",
       "      <td>0.62</td>\n",
       "      <td>0.00</td>\n",
       "    </tr>\n",
       "    <tr>\n",
       "      <th>3</th>\n",
       "      <td>9</td>\n",
       "      <td>69620</td>\n",
       "      <td>1314</td>\n",
       "      <td>0.26</td>\n",
       "      <td>-0.37</td>\n",
       "    </tr>\n",
       "  </tbody>\n",
       "</table>\n",
       "</div>"
      ],
      "text/plain": [
       "   Месяц  Выпуск  Брак  Отн. темп прироста выпуска  Отн. темп прироста брака\n",
       "2      8   89751  2081                        0.62                      0.00\n",
       "3      9   69620  1314                        0.26                     -0.37"
      ]
     },
     "execution_count": 62,
     "metadata": {},
     "output_type": "execute_result"
    }
   ],
   "source": [
    "dep_2_monthly = dep_2_monthly.loc[2:, :]\n",
    "dep_2_monthly"
   ]
  },
  {
   "cell_type": "markdown",
   "id": "09f429a8",
   "metadata": {},
   "source": [
    "- Подразделение 2 обладает наибольшей динамикой уменьшения количества брака: работники снизили количество брака на 37 %\n",
    "- Подразделение 1 наращивает количество брака: прирост составил 67 % от начала года"
   ]
  },
  {
   "cell_type": "markdown",
   "id": "adc7a452",
   "metadata": {},
   "source": [
    "**Составим рейтинг товаров/подразделений по выпуску**"
   ]
  },
  {
   "cell_type": "markdown",
   "id": "5bbe569c",
   "metadata": {},
   "source": [
    "Воспользуемся таблицей, полученной ранее:"
   ]
  },
  {
   "cell_type": "code",
   "execution_count": 63,
   "id": "d7395774",
   "metadata": {},
   "outputs": [
    {
     "data": {
      "text/html": [
       "<div>\n",
       "<style scoped>\n",
       "    .dataframe tbody tr th:only-of-type {\n",
       "        vertical-align: middle;\n",
       "    }\n",
       "\n",
       "    .dataframe tbody tr th {\n",
       "        vertical-align: top;\n",
       "    }\n",
       "\n",
       "    .dataframe thead th {\n",
       "        text-align: right;\n",
       "    }\n",
       "</style>\n",
       "<table border=\"1\" class=\"dataframe\">\n",
       "  <thead>\n",
       "    <tr style=\"text-align: right;\">\n",
       "      <th></th>\n",
       "      <th>Товар</th>\n",
       "      <th>Подразделение</th>\n",
       "      <th>Сумма выпуска</th>\n",
       "      <th>Сумма брака</th>\n",
       "      <th>Доля брака</th>\n",
       "    </tr>\n",
       "  </thead>\n",
       "  <tbody>\n",
       "    <tr>\n",
       "      <th>0</th>\n",
       "      <td>Товар 1</td>\n",
       "      <td>Подразделение 1</td>\n",
       "      <td>7855381</td>\n",
       "      <td>214181</td>\n",
       "      <td>0.03</td>\n",
       "    </tr>\n",
       "    <tr>\n",
       "      <th>1</th>\n",
       "      <td>Товар 3</td>\n",
       "      <td>Подразделение 1</td>\n",
       "      <td>1005991</td>\n",
       "      <td>12239</td>\n",
       "      <td>0.01</td>\n",
       "    </tr>\n",
       "    <tr>\n",
       "      <th>2</th>\n",
       "      <td>Товар 7</td>\n",
       "      <td>Подразделение 1</td>\n",
       "      <td>871159</td>\n",
       "      <td>18701</td>\n",
       "      <td>0.02</td>\n",
       "    </tr>\n",
       "    <tr>\n",
       "      <th>3</th>\n",
       "      <td>Товар 2</td>\n",
       "      <td>Подразделение 1</td>\n",
       "      <td>645755</td>\n",
       "      <td>9299</td>\n",
       "      <td>0.01</td>\n",
       "    </tr>\n",
       "    <tr>\n",
       "      <th>4</th>\n",
       "      <td>Товар 20</td>\n",
       "      <td>Подразделение 1</td>\n",
       "      <td>608278</td>\n",
       "      <td>7075</td>\n",
       "      <td>0.01</td>\n",
       "    </tr>\n",
       "    <tr>\n",
       "      <th>5</th>\n",
       "      <td>Товар 8</td>\n",
       "      <td>Подразделение 1</td>\n",
       "      <td>449429</td>\n",
       "      <td>7793</td>\n",
       "      <td>0.02</td>\n",
       "    </tr>\n",
       "    <tr>\n",
       "      <th>6</th>\n",
       "      <td>Товар 22</td>\n",
       "      <td>Подразделение 1</td>\n",
       "      <td>377835</td>\n",
       "      <td>11706</td>\n",
       "      <td>0.03</td>\n",
       "    </tr>\n",
       "    <tr>\n",
       "      <th>7</th>\n",
       "      <td>Товар 13</td>\n",
       "      <td>Подразделение 1</td>\n",
       "      <td>365821</td>\n",
       "      <td>3992</td>\n",
       "      <td>0.01</td>\n",
       "    </tr>\n",
       "    <tr>\n",
       "      <th>8</th>\n",
       "      <td>Товар 5</td>\n",
       "      <td>Подразделение 1</td>\n",
       "      <td>331547</td>\n",
       "      <td>7269</td>\n",
       "      <td>0.02</td>\n",
       "    </tr>\n",
       "    <tr>\n",
       "      <th>9</th>\n",
       "      <td>Товар 9</td>\n",
       "      <td>Подразделение 1</td>\n",
       "      <td>318552</td>\n",
       "      <td>7113</td>\n",
       "      <td>0.02</td>\n",
       "    </tr>\n",
       "  </tbody>\n",
       "</table>\n",
       "</div>"
      ],
      "text/plain": [
       "      Товар    Подразделение  Сумма выпуска  Сумма брака  Доля брака\n",
       "0   Товар 1  Подразделение 1        7855381       214181        0.03\n",
       "1   Товар 3  Подразделение 1        1005991        12239        0.01\n",
       "2   Товар 7  Подразделение 1         871159        18701        0.02\n",
       "3   Товар 2  Подразделение 1         645755         9299        0.01\n",
       "4  Товар 20  Подразделение 1         608278         7075        0.01\n",
       "5   Товар 8  Подразделение 1         449429         7793        0.02\n",
       "6  Товар 22  Подразделение 1         377835        11706        0.03\n",
       "7  Товар 13  Подразделение 1         365821         3992        0.01\n",
       "8   Товар 5  Подразделение 1         331547         7269        0.02\n",
       "9   Товар 9  Подразделение 1         318552         7113        0.02"
      ]
     },
     "execution_count": 63,
     "metadata": {},
     "output_type": "execute_result"
    }
   ],
   "source": [
    "dep_rank = (dep_rank\n",
    "            .sort_values(by='Выпуск', \n",
    "                         ascending=False)\n",
    "            .reset_index(drop=True)\n",
    "            .rename(columns={'Выпуск':'Сумма выпуска', \n",
    "                             'Брак':'Сумма брака'}))\n",
    "\n",
    "dep_rank.head(10)"
   ]
  },
  {
   "cell_type": "markdown",
   "id": "b75ae632",
   "metadata": {},
   "source": [
    "Добавим столбец с нумерацией и поставим его первым:"
   ]
  },
  {
   "cell_type": "code",
   "execution_count": 64,
   "id": "90e7060d",
   "metadata": {},
   "outputs": [
    {
     "data": {
      "text/html": [
       "<div>\n",
       "<style scoped>\n",
       "    .dataframe tbody tr th:only-of-type {\n",
       "        vertical-align: middle;\n",
       "    }\n",
       "\n",
       "    .dataframe tbody tr th {\n",
       "        vertical-align: top;\n",
       "    }\n",
       "\n",
       "    .dataframe thead th {\n",
       "        text-align: right;\n",
       "    }\n",
       "</style>\n",
       "<table border=\"1\" class=\"dataframe\">\n",
       "  <thead>\n",
       "    <tr style=\"text-align: right;\">\n",
       "      <th></th>\n",
       "      <th>№</th>\n",
       "      <th>Товар</th>\n",
       "      <th>Подразделение</th>\n",
       "      <th>Сумма выпуска</th>\n",
       "      <th>Сумма брака</th>\n",
       "      <th>Доля брака</th>\n",
       "    </tr>\n",
       "  </thead>\n",
       "  <tbody>\n",
       "    <tr>\n",
       "      <th>0</th>\n",
       "      <td>1</td>\n",
       "      <td>Товар 1</td>\n",
       "      <td>Подразделение 1</td>\n",
       "      <td>7855381</td>\n",
       "      <td>214181</td>\n",
       "      <td>0.03</td>\n",
       "    </tr>\n",
       "    <tr>\n",
       "      <th>1</th>\n",
       "      <td>2</td>\n",
       "      <td>Товар 3</td>\n",
       "      <td>Подразделение 1</td>\n",
       "      <td>1005991</td>\n",
       "      <td>12239</td>\n",
       "      <td>0.01</td>\n",
       "    </tr>\n",
       "    <tr>\n",
       "      <th>2</th>\n",
       "      <td>3</td>\n",
       "      <td>Товар 7</td>\n",
       "      <td>Подразделение 1</td>\n",
       "      <td>871159</td>\n",
       "      <td>18701</td>\n",
       "      <td>0.02</td>\n",
       "    </tr>\n",
       "    <tr>\n",
       "      <th>3</th>\n",
       "      <td>4</td>\n",
       "      <td>Товар 2</td>\n",
       "      <td>Подразделение 1</td>\n",
       "      <td>645755</td>\n",
       "      <td>9299</td>\n",
       "      <td>0.01</td>\n",
       "    </tr>\n",
       "    <tr>\n",
       "      <th>4</th>\n",
       "      <td>5</td>\n",
       "      <td>Товар 20</td>\n",
       "      <td>Подразделение 1</td>\n",
       "      <td>608278</td>\n",
       "      <td>7075</td>\n",
       "      <td>0.01</td>\n",
       "    </tr>\n",
       "    <tr>\n",
       "      <th>5</th>\n",
       "      <td>6</td>\n",
       "      <td>Товар 8</td>\n",
       "      <td>Подразделение 1</td>\n",
       "      <td>449429</td>\n",
       "      <td>7793</td>\n",
       "      <td>0.02</td>\n",
       "    </tr>\n",
       "    <tr>\n",
       "      <th>6</th>\n",
       "      <td>7</td>\n",
       "      <td>Товар 22</td>\n",
       "      <td>Подразделение 1</td>\n",
       "      <td>377835</td>\n",
       "      <td>11706</td>\n",
       "      <td>0.03</td>\n",
       "    </tr>\n",
       "    <tr>\n",
       "      <th>7</th>\n",
       "      <td>8</td>\n",
       "      <td>Товар 13</td>\n",
       "      <td>Подразделение 1</td>\n",
       "      <td>365821</td>\n",
       "      <td>3992</td>\n",
       "      <td>0.01</td>\n",
       "    </tr>\n",
       "    <tr>\n",
       "      <th>8</th>\n",
       "      <td>9</td>\n",
       "      <td>Товар 5</td>\n",
       "      <td>Подразделение 1</td>\n",
       "      <td>331547</td>\n",
       "      <td>7269</td>\n",
       "      <td>0.02</td>\n",
       "    </tr>\n",
       "    <tr>\n",
       "      <th>9</th>\n",
       "      <td>10</td>\n",
       "      <td>Товар 9</td>\n",
       "      <td>Подразделение 1</td>\n",
       "      <td>318552</td>\n",
       "      <td>7113</td>\n",
       "      <td>0.02</td>\n",
       "    </tr>\n",
       "  </tbody>\n",
       "</table>\n",
       "</div>"
      ],
      "text/plain": [
       "    №     Товар    Подразделение  Сумма выпуска  Сумма брака  Доля брака\n",
       "0   1   Товар 1  Подразделение 1        7855381       214181        0.03\n",
       "1   2   Товар 3  Подразделение 1        1005991        12239        0.01\n",
       "2   3   Товар 7  Подразделение 1         871159        18701        0.02\n",
       "3   4   Товар 2  Подразделение 1         645755         9299        0.01\n",
       "4   5  Товар 20  Подразделение 1         608278         7075        0.01\n",
       "5   6   Товар 8  Подразделение 1         449429         7793        0.02\n",
       "6   7  Товар 22  Подразделение 1         377835        11706        0.03\n",
       "7   8  Товар 13  Подразделение 1         365821         3992        0.01\n",
       "8   9   Товар 5  Подразделение 1         331547         7269        0.02\n",
       "9  10   Товар 9  Подразделение 1         318552         7113        0.02"
      ]
     },
     "execution_count": 64,
     "metadata": {},
     "output_type": "execute_result"
    }
   ],
   "source": [
    "dep_rank['№'] = dep_rank.reset_index().index + 1\n",
    "\n",
    "cols = dep_rank.columns.tolist()\n",
    "cols = cols[-1:] + cols[:-1]\n",
    "dep_rank = dep_rank[cols]\n",
    "\n",
    "dep_rank.head(10)"
   ]
  },
  {
   "cell_type": "markdown",
   "id": "e1abb4c5",
   "metadata": {},
   "source": [
    "## **Общий вывод**"
   ]
  },
  {
   "cell_type": "markdown",
   "id": "02e3fd04",
   "metadata": {},
   "source": [
    "**О проекте**\n",
    "\n",
    "- В проекте исследованы показатели производства, отмечены топовые товары и подразделения, а также возможные точки роста для бизнеса\n",
    "- Исходные данные предоставлены в виде двух таблиц `xlsx`: таблица с выпуском и таблица с браком продукции\n",
    "- Перед основной частью исследования проведена предобработка и изучение данных\n",
    "\n",
    "**Предобработка**\n",
    "\n",
    "- Дата приведена к типу `datetime`\n",
    "- Обнаружено 36 полных дубликатов в таблице с браком, дублирующиеся значения удалены\n",
    "- В таблице с браком присутствовали 1569 лишних записей для конкретного дня/товара/подразделения\n",
    "    - Записи заменены одной записью для этого дня/товара/подразделения с суммарным количеством брака\n",
    "    \n",
    "**Основная часть проекта**\n",
    "\n",
    "- Исходные таблицы объединены по полям `Дата` `Товар` и `Подразделение` \n",
    "    - Значения из таблицы брака без соответствия таблице выпуска заменены нулями\n",
    "- Построена сводная таблица по неделям/товарам/подразделениям\n",
    "    - Для каждой таблицы получено суммарное количество выпуска и брака\n",
    "    - Рассчитана доля брака в продукции\n",
    "    - Проведена категоризация записей по доле брака: Низкий/Средний/Высокий\n",
    "        - Категория \"Средний\" расширена относительно ТЗ для того, чтобы каждая запись была отнесена к категории (от 1 до 3 % --> от 1 до 5 %)\n",
    "        - Подавляющее большинство записей относятся к категории \"Низкий\"\n",
    "- За период с начала по сентябрь 2022 года всего выпущено 14.2 млн единиц товара\n",
    "- Больше всего выпущено `Товар 1` в `Подразделение 1` в сравнении с другими сочетаниями товар/подразделение\n",
    "- При этом `Подразделение 1` имеет самый высокий процент брака из двух подразделений\n",
    "- Больше всего в `Подразделение 1` встречается брака в `Товар 18` и `Товар 15`: половина изделий отбраковывается (50 %)\n",
    "    - Ближайший конкурент -- `Товар 19` имеет всего 4.9 % брака\n",
    "- Суммарное производство за период отчета выросло более чем в два раза\n",
    "    - Это не привело к двукратному росту количества брака\n",
    "    - Масштабирование бизнеса проходит успешно\n",
    "- Основной драйвер этого взрывного роста -- `Подразделение 1`, их производство возросло в два раза в месячном выражении за девять месяцев\n",
    "    - `Подразделение 2` за три месяца полноценной работы стало выпускать на 26 % больше товаров\n",
    "- Рост производства `Подразделение 1` привел к драматическому росту количества брака\n",
    "    - За период отчета выпуск возрос на 100 %, при этом брак возрос на 167 %\n",
    "- Масштабирование производства `Подразделение 2` протекает значительно лучше:\n",
    "    - За период отчета выпуск возрос на 26 %, а брак уменьшился на 37 %  \n",
    "    \n",
    " \n",
    "\n",
    "\n",
    "**Рекомендации по сбору и хранению данных**\n",
    "\n",
    "- Предлагается записывать информацию о браках один раз в сутки, если это возможно -- для удобства работы\n",
    "- Рекомендуется в явном виде прописывать в логах нули (вместо отсутствия записи), если смена закрыта без брака: это позволит повысить уверенность выводов на основании данных"
   ]
  }
 ],
 "metadata": {
  "hide_input": false,
  "kernelspec": {
   "display_name": "Python 3 (ipykernel)",
   "language": "python",
   "name": "python3"
  },
  "language_info": {
   "codemirror_mode": {
    "name": "ipython",
    "version": 3
   },
   "file_extension": ".py",
   "mimetype": "text/x-python",
   "name": "python",
   "nbconvert_exporter": "python",
   "pygments_lexer": "ipython3",
   "version": "3.9.15"
  },
  "toc": {
   "base_numbering": 1,
   "nav_menu": {},
   "number_sections": true,
   "sideBar": true,
   "skip_h1_title": true,
   "title_cell": "Table of Contents",
   "title_sidebar": "Contents",
   "toc_cell": false,
   "toc_position": {
    "height": "calc(100% - 180px)",
    "left": "10px",
    "top": "150px",
    "width": "288px"
   },
   "toc_section_display": true,
   "toc_window_display": false
  }
 },
 "nbformat": 4,
 "nbformat_minor": 5
}
